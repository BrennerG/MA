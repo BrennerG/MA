{
 "cells": [
  {
   "cell_type": "code",
   "execution_count": 54,
   "metadata": {
    "vscode": {
     "languageId": "plaintext"
    }
   },
   "outputs": [],
   "source": [
    "import yaml\n",
    "import yaml\n",
    "from yaml.loader import SafeLoader\n",
    "import sys\n",
    "sys.path.append(\"..\")\n",
    "import src.evaluation.eraserbenchmark.rationale_benchmark.utils as EU\n",
    "import src.evaluation.eraserbenchmark.rationale_benchmark.metrics as EM\n",
    "from src.data.locations import LOC\n",
    "\n",
    "# load predictions and attentions\n",
    "with open('../data/experiments/default/predictions_attentions.yaml') as f:\n",
    "    data = yaml.load(f, Loader=SafeLoader)\n",
    "\n",
    "# get documents\n",
    "docids = list(data.keys())\n",
    "documents = EM.load_flattened_documents('../'+LOC['cose'], docids=docids)"
   ]
  },
  {
   "cell_type": "code",
   "execution_count": 55,
   "metadata": {},
   "outputs": [
    {
     "data": {
      "text/plain": [
       "True"
      ]
     },
     "execution_count": 55,
     "metadata": {},
     "output_type": "execute_result"
    }
   ],
   "source": [
    "# all keys are the same (len will then also be the same)\n",
    "list(data.keys()) == docids"
   ]
  },
  {
   "cell_type": "code",
   "execution_count": 56,
   "metadata": {},
   "outputs": [
    {
     "data": {
      "text/plain": [
       "True"
      ]
     },
     "execution_count": 56,
     "metadata": {},
     "output_type": "execute_result"
    }
   ],
   "source": [
    "# len of attention vectors == len of document tokens\n",
    "[len(x['attn']) for x in list(data.values())] == [len(x) for x in list(documents.values())]"
   ]
  },
  {
   "cell_type": "code",
   "execution_count": 59,
   "metadata": {},
   "outputs": [
    {
     "data": {
      "text/plain": [
       "[('Where', 0.7210550393651709),\n",
       " ('can', 0.8136533739680836),\n",
       " ('a', 0.0),\n",
       " ('human', 0.06314977894641013),\n",
       " ('find', 0.3412154787371332),\n",
       " ('clothes', 0.9999999999999998),\n",
       " ('that', 0.5786600416338707),\n",
       " ('are', 0.39342262859525895),\n",
       " (\"n't\", 0.2664831932688572),\n",
       " ('pants', 0.7014948502859857),\n",
       " ('?', 0.2664831932688572)]"
      ]
     },
     "execution_count": 59,
     "metadata": {},
     "output_type": "execute_result"
    }
   ],
   "source": [
    "i = 2\n",
    "list(zip(documents[docids[i]], data[docids[i]]['attn']))"
   ]
  }
 ],
 "metadata": {
  "kernelspec": {
   "display_name": "ma",
   "language": "python",
   "name": "ma"
  },
  "language_info": {
   "codemirror_mode": {
    "name": "ipython",
    "version": 3
   },
   "file_extension": ".py",
   "mimetype": "text/x-python",
   "name": "python",
   "nbconvert_exporter": "python",
   "pygments_lexer": "ipython3",
   "version": "3.9.12"
  }
 },
 "nbformat": 4,
 "nbformat_minor": 2
}
