{
 "cells": [
  {
   "cell_type": "markdown",
   "metadata": {},
   "source": [
    "# Manual Qualitative Check of Attention Weight Explanations"
   ]
  },
  {
   "cell_type": "code",
   "execution_count": 1,
   "metadata": {
    "vscode": {
     "languageId": "plaintext"
    }
   },
   "outputs": [
    {
     "name": "stderr",
     "output_type": "stream",
     "text": [
      "/home/gabriel/anaconda3/envs/ma/lib/python3.9/site-packages/tqdm/auto.py:22: TqdmWarning: IProgress not found. Please update jupyter and ipywidgets. See https://ipywidgets.readthedocs.io/en/stable/user_install.html\n",
      "  from .autonotebook import tqdm as notebook_tqdm\n"
     ]
    }
   ],
   "source": [
    "import yaml\n",
    "import yaml\n",
    "from yaml.loader import SafeLoader\n",
    "import sys\n",
    "sys.path.append(\"..\")\n",
    "import src.evaluation.eraserbenchmark.rationale_benchmark.utils as EU\n",
    "import src.evaluation.eraserbenchmark.rationale_benchmark.metrics as EM\n",
    "from src.data.locations import LOC\n",
    "import numpy as np\n",
    "\n",
    "# load predictions and attentions\n",
    "with open('../data/experiments/curious_darkness_lime5k/predictions_attentions.yaml') as f:\n",
    "    preds_attn = yaml.load(f, Loader=SafeLoader)\n",
    "\n",
    "# get documents\n",
    "docids = list(preds_attn.keys())\n",
    "documents = EM.load_flattened_documents('../'+LOC['cose'], docids=docids)\n",
    "annotations = EU.annotations_from_jsonl(f\"../{LOC['cose_val']}\")"
   ]
  },
  {
   "cell_type": "code",
   "execution_count": 2,
   "metadata": {},
   "outputs": [],
   "source": [
    "# ASSERTS\n",
    "# all keys are the same (len will then also be the same)\n",
    "assert list(preds_attn.keys()) == docids\n",
    "# len of attention vectors == len of document tokens\n",
    "assert [len(x['attn']) for x in list(preds_attn.values())] == [len(x) for x in list(documents.values())]\n",
    "# annotations and docids from same split\n",
    "annotation_docids = [list(x.evidences)[0][0].docid for x in annotations]\n",
    "assert all([x in annotation_docids for x in docids])"
   ]
  },
  {
   "cell_type": "markdown",
   "metadata": {},
   "source": [
    "## Attention Weight Bar Plot"
   ]
  },
  {
   "cell_type": "code",
   "execution_count": 302,
   "metadata": {
    "scrolled": false
   },
   "outputs": [
    {
     "name": "stdout",
     "output_type": "stream",
     "text": [
      "290c711d7be219ba9870c08237b136dd\n",
      "Q: Joe was n't prepared to wage war . He had not raised what ?\n",
      "A: weapons | asserting power | plans | energy | armies\n",
      "evidence: Joe was n't prepared to wage war . He had not raised what ?\n",
      "prediction: energy\n",
      "truth: armies\n"
     ]
    },
    {
     "data": {
      "application/vnd.plotly.v1+json": {
       "config": {
        "plotlyServerURL": "https://plot.ly"
       },
       "data": [
        {
         "alignmentgroup": "True",
         "hovertemplate": "color=#ba4227<br>tokens=%{x}<br>attn=%{y}<extra></extra>",
         "legendgroup": "#ba4227",
         "marker": {
          "color": "#636efa",
          "pattern": {
           "shape": ""
          }
         },
         "name": "#ba4227",
         "offsetgroup": "#ba4227",
         "orientation": "v",
         "showlegend": true,
         "textposition": "auto",
         "type": "bar",
         "x": [
          "Joe",
          "was",
          "n't",
          "prepared",
          "to",
          "wage",
          "war",
          ".",
          "He",
          "had",
          "not",
          "raised",
          "what",
          "?"
         ],
         "xaxis": "x",
         "y": [
          0.09263938628308688,
          -0.1955642632684032,
          0,
          -0.033400547874296256,
          -0.2537800093310884,
          0.0259339504874056,
          0.17346557838198268,
          0,
          0.13918042705776146,
          -0.3173498475420505,
          -0.23192453051344636,
          -0.2871767371100778,
          -0.052705730606981846,
          0
         ],
         "yaxis": "y"
        }
       ],
       "layout": {
        "barmode": "relative",
        "legend": {
         "title": {
          "text": "color"
         },
         "tracegroupgap": 0
        },
        "template": {
         "data": {
          "bar": [
           {
            "error_x": {
             "color": "#2a3f5f"
            },
            "error_y": {
             "color": "#2a3f5f"
            },
            "marker": {
             "line": {
              "color": "#E5ECF6",
              "width": 0.5
             },
             "pattern": {
              "fillmode": "overlay",
              "size": 10,
              "solidity": 0.2
             }
            },
            "type": "bar"
           }
          ],
          "barpolar": [
           {
            "marker": {
             "line": {
              "color": "#E5ECF6",
              "width": 0.5
             },
             "pattern": {
              "fillmode": "overlay",
              "size": 10,
              "solidity": 0.2
             }
            },
            "type": "barpolar"
           }
          ],
          "carpet": [
           {
            "aaxis": {
             "endlinecolor": "#2a3f5f",
             "gridcolor": "white",
             "linecolor": "white",
             "minorgridcolor": "white",
             "startlinecolor": "#2a3f5f"
            },
            "baxis": {
             "endlinecolor": "#2a3f5f",
             "gridcolor": "white",
             "linecolor": "white",
             "minorgridcolor": "white",
             "startlinecolor": "#2a3f5f"
            },
            "type": "carpet"
           }
          ],
          "choropleth": [
           {
            "colorbar": {
             "outlinewidth": 0,
             "ticks": ""
            },
            "type": "choropleth"
           }
          ],
          "contour": [
           {
            "colorbar": {
             "outlinewidth": 0,
             "ticks": ""
            },
            "colorscale": [
             [
              0,
              "#0d0887"
             ],
             [
              0.1111111111111111,
              "#46039f"
             ],
             [
              0.2222222222222222,
              "#7201a8"
             ],
             [
              0.3333333333333333,
              "#9c179e"
             ],
             [
              0.4444444444444444,
              "#bd3786"
             ],
             [
              0.5555555555555556,
              "#d8576b"
             ],
             [
              0.6666666666666666,
              "#ed7953"
             ],
             [
              0.7777777777777778,
              "#fb9f3a"
             ],
             [
              0.8888888888888888,
              "#fdca26"
             ],
             [
              1,
              "#f0f921"
             ]
            ],
            "type": "contour"
           }
          ],
          "contourcarpet": [
           {
            "colorbar": {
             "outlinewidth": 0,
             "ticks": ""
            },
            "type": "contourcarpet"
           }
          ],
          "heatmap": [
           {
            "colorbar": {
             "outlinewidth": 0,
             "ticks": ""
            },
            "colorscale": [
             [
              0,
              "#0d0887"
             ],
             [
              0.1111111111111111,
              "#46039f"
             ],
             [
              0.2222222222222222,
              "#7201a8"
             ],
             [
              0.3333333333333333,
              "#9c179e"
             ],
             [
              0.4444444444444444,
              "#bd3786"
             ],
             [
              0.5555555555555556,
              "#d8576b"
             ],
             [
              0.6666666666666666,
              "#ed7953"
             ],
             [
              0.7777777777777778,
              "#fb9f3a"
             ],
             [
              0.8888888888888888,
              "#fdca26"
             ],
             [
              1,
              "#f0f921"
             ]
            ],
            "type": "heatmap"
           }
          ],
          "heatmapgl": [
           {
            "colorbar": {
             "outlinewidth": 0,
             "ticks": ""
            },
            "colorscale": [
             [
              0,
              "#0d0887"
             ],
             [
              0.1111111111111111,
              "#46039f"
             ],
             [
              0.2222222222222222,
              "#7201a8"
             ],
             [
              0.3333333333333333,
              "#9c179e"
             ],
             [
              0.4444444444444444,
              "#bd3786"
             ],
             [
              0.5555555555555556,
              "#d8576b"
             ],
             [
              0.6666666666666666,
              "#ed7953"
             ],
             [
              0.7777777777777778,
              "#fb9f3a"
             ],
             [
              0.8888888888888888,
              "#fdca26"
             ],
             [
              1,
              "#f0f921"
             ]
            ],
            "type": "heatmapgl"
           }
          ],
          "histogram": [
           {
            "marker": {
             "pattern": {
              "fillmode": "overlay",
              "size": 10,
              "solidity": 0.2
             }
            },
            "type": "histogram"
           }
          ],
          "histogram2d": [
           {
            "colorbar": {
             "outlinewidth": 0,
             "ticks": ""
            },
            "colorscale": [
             [
              0,
              "#0d0887"
             ],
             [
              0.1111111111111111,
              "#46039f"
             ],
             [
              0.2222222222222222,
              "#7201a8"
             ],
             [
              0.3333333333333333,
              "#9c179e"
             ],
             [
              0.4444444444444444,
              "#bd3786"
             ],
             [
              0.5555555555555556,
              "#d8576b"
             ],
             [
              0.6666666666666666,
              "#ed7953"
             ],
             [
              0.7777777777777778,
              "#fb9f3a"
             ],
             [
              0.8888888888888888,
              "#fdca26"
             ],
             [
              1,
              "#f0f921"
             ]
            ],
            "type": "histogram2d"
           }
          ],
          "histogram2dcontour": [
           {
            "colorbar": {
             "outlinewidth": 0,
             "ticks": ""
            },
            "colorscale": [
             [
              0,
              "#0d0887"
             ],
             [
              0.1111111111111111,
              "#46039f"
             ],
             [
              0.2222222222222222,
              "#7201a8"
             ],
             [
              0.3333333333333333,
              "#9c179e"
             ],
             [
              0.4444444444444444,
              "#bd3786"
             ],
             [
              0.5555555555555556,
              "#d8576b"
             ],
             [
              0.6666666666666666,
              "#ed7953"
             ],
             [
              0.7777777777777778,
              "#fb9f3a"
             ],
             [
              0.8888888888888888,
              "#fdca26"
             ],
             [
              1,
              "#f0f921"
             ]
            ],
            "type": "histogram2dcontour"
           }
          ],
          "mesh3d": [
           {
            "colorbar": {
             "outlinewidth": 0,
             "ticks": ""
            },
            "type": "mesh3d"
           }
          ],
          "parcoords": [
           {
            "line": {
             "colorbar": {
              "outlinewidth": 0,
              "ticks": ""
             }
            },
            "type": "parcoords"
           }
          ],
          "pie": [
           {
            "automargin": true,
            "type": "pie"
           }
          ],
          "scatter": [
           {
            "fillpattern": {
             "fillmode": "overlay",
             "size": 10,
             "solidity": 0.2
            },
            "type": "scatter"
           }
          ],
          "scatter3d": [
           {
            "line": {
             "colorbar": {
              "outlinewidth": 0,
              "ticks": ""
             }
            },
            "marker": {
             "colorbar": {
              "outlinewidth": 0,
              "ticks": ""
             }
            },
            "type": "scatter3d"
           }
          ],
          "scattercarpet": [
           {
            "marker": {
             "colorbar": {
              "outlinewidth": 0,
              "ticks": ""
             }
            },
            "type": "scattercarpet"
           }
          ],
          "scattergeo": [
           {
            "marker": {
             "colorbar": {
              "outlinewidth": 0,
              "ticks": ""
             }
            },
            "type": "scattergeo"
           }
          ],
          "scattergl": [
           {
            "marker": {
             "colorbar": {
              "outlinewidth": 0,
              "ticks": ""
             }
            },
            "type": "scattergl"
           }
          ],
          "scattermapbox": [
           {
            "marker": {
             "colorbar": {
              "outlinewidth": 0,
              "ticks": ""
             }
            },
            "type": "scattermapbox"
           }
          ],
          "scatterpolar": [
           {
            "marker": {
             "colorbar": {
              "outlinewidth": 0,
              "ticks": ""
             }
            },
            "type": "scatterpolar"
           }
          ],
          "scatterpolargl": [
           {
            "marker": {
             "colorbar": {
              "outlinewidth": 0,
              "ticks": ""
             }
            },
            "type": "scatterpolargl"
           }
          ],
          "scatterternary": [
           {
            "marker": {
             "colorbar": {
              "outlinewidth": 0,
              "ticks": ""
             }
            },
            "type": "scatterternary"
           }
          ],
          "surface": [
           {
            "colorbar": {
             "outlinewidth": 0,
             "ticks": ""
            },
            "colorscale": [
             [
              0,
              "#0d0887"
             ],
             [
              0.1111111111111111,
              "#46039f"
             ],
             [
              0.2222222222222222,
              "#7201a8"
             ],
             [
              0.3333333333333333,
              "#9c179e"
             ],
             [
              0.4444444444444444,
              "#bd3786"
             ],
             [
              0.5555555555555556,
              "#d8576b"
             ],
             [
              0.6666666666666666,
              "#ed7953"
             ],
             [
              0.7777777777777778,
              "#fb9f3a"
             ],
             [
              0.8888888888888888,
              "#fdca26"
             ],
             [
              1,
              "#f0f921"
             ]
            ],
            "type": "surface"
           }
          ],
          "table": [
           {
            "cells": {
             "fill": {
              "color": "#EBF0F8"
             },
             "line": {
              "color": "white"
             }
            },
            "header": {
             "fill": {
              "color": "#C8D4E3"
             },
             "line": {
              "color": "white"
             }
            },
            "type": "table"
           }
          ]
         },
         "layout": {
          "annotationdefaults": {
           "arrowcolor": "#2a3f5f",
           "arrowhead": 0,
           "arrowwidth": 1
          },
          "autotypenumbers": "strict",
          "coloraxis": {
           "colorbar": {
            "outlinewidth": 0,
            "ticks": ""
           }
          },
          "colorscale": {
           "diverging": [
            [
             0,
             "#8e0152"
            ],
            [
             0.1,
             "#c51b7d"
            ],
            [
             0.2,
             "#de77ae"
            ],
            [
             0.3,
             "#f1b6da"
            ],
            [
             0.4,
             "#fde0ef"
            ],
            [
             0.5,
             "#f7f7f7"
            ],
            [
             0.6,
             "#e6f5d0"
            ],
            [
             0.7,
             "#b8e186"
            ],
            [
             0.8,
             "#7fbc41"
            ],
            [
             0.9,
             "#4d9221"
            ],
            [
             1,
             "#276419"
            ]
           ],
           "sequential": [
            [
             0,
             "#0d0887"
            ],
            [
             0.1111111111111111,
             "#46039f"
            ],
            [
             0.2222222222222222,
             "#7201a8"
            ],
            [
             0.3333333333333333,
             "#9c179e"
            ],
            [
             0.4444444444444444,
             "#bd3786"
            ],
            [
             0.5555555555555556,
             "#d8576b"
            ],
            [
             0.6666666666666666,
             "#ed7953"
            ],
            [
             0.7777777777777778,
             "#fb9f3a"
            ],
            [
             0.8888888888888888,
             "#fdca26"
            ],
            [
             1,
             "#f0f921"
            ]
           ],
           "sequentialminus": [
            [
             0,
             "#0d0887"
            ],
            [
             0.1111111111111111,
             "#46039f"
            ],
            [
             0.2222222222222222,
             "#7201a8"
            ],
            [
             0.3333333333333333,
             "#9c179e"
            ],
            [
             0.4444444444444444,
             "#bd3786"
            ],
            [
             0.5555555555555556,
             "#d8576b"
            ],
            [
             0.6666666666666666,
             "#ed7953"
            ],
            [
             0.7777777777777778,
             "#fb9f3a"
            ],
            [
             0.8888888888888888,
             "#fdca26"
            ],
            [
             1,
             "#f0f921"
            ]
           ]
          },
          "colorway": [
           "#636efa",
           "#EF553B",
           "#00cc96",
           "#ab63fa",
           "#FFA15A",
           "#19d3f3",
           "#FF6692",
           "#B6E880",
           "#FF97FF",
           "#FECB52"
          ],
          "font": {
           "color": "#2a3f5f"
          },
          "geo": {
           "bgcolor": "white",
           "lakecolor": "white",
           "landcolor": "#E5ECF6",
           "showlakes": true,
           "showland": true,
           "subunitcolor": "white"
          },
          "hoverlabel": {
           "align": "left"
          },
          "hovermode": "closest",
          "mapbox": {
           "style": "light"
          },
          "paper_bgcolor": "white",
          "plot_bgcolor": "#E5ECF6",
          "polar": {
           "angularaxis": {
            "gridcolor": "white",
            "linecolor": "white",
            "ticks": ""
           },
           "bgcolor": "#E5ECF6",
           "radialaxis": {
            "gridcolor": "white",
            "linecolor": "white",
            "ticks": ""
           }
          },
          "scene": {
           "xaxis": {
            "backgroundcolor": "#E5ECF6",
            "gridcolor": "white",
            "gridwidth": 2,
            "linecolor": "white",
            "showbackground": true,
            "ticks": "",
            "zerolinecolor": "white"
           },
           "yaxis": {
            "backgroundcolor": "#E5ECF6",
            "gridcolor": "white",
            "gridwidth": 2,
            "linecolor": "white",
            "showbackground": true,
            "ticks": "",
            "zerolinecolor": "white"
           },
           "zaxis": {
            "backgroundcolor": "#E5ECF6",
            "gridcolor": "white",
            "gridwidth": 2,
            "linecolor": "white",
            "showbackground": true,
            "ticks": "",
            "zerolinecolor": "white"
           }
          },
          "shapedefaults": {
           "line": {
            "color": "#2a3f5f"
           }
          },
          "ternary": {
           "aaxis": {
            "gridcolor": "white",
            "linecolor": "white",
            "ticks": ""
           },
           "baxis": {
            "gridcolor": "white",
            "linecolor": "white",
            "ticks": ""
           },
           "bgcolor": "#E5ECF6",
           "caxis": {
            "gridcolor": "white",
            "linecolor": "white",
            "ticks": ""
           }
          },
          "title": {
           "x": 0.05
          },
          "xaxis": {
           "automargin": true,
           "gridcolor": "white",
           "linecolor": "white",
           "ticks": "",
           "title": {
            "standoff": 15
           },
           "zerolinecolor": "white",
           "zerolinewidth": 2
          },
          "yaxis": {
           "automargin": true,
           "gridcolor": "white",
           "linecolor": "white",
           "ticks": "",
           "title": {
            "standoff": 15
           },
           "zerolinecolor": "white",
           "zerolinewidth": 2
          }
         }
        },
        "title": {
         "text": "Joe was n't prepared to wage war . He had not raised what ?"
        },
        "xaxis": {
         "anchor": "y",
         "categoryarray": [
          "Joe",
          "was",
          "n't",
          "prepared",
          "to",
          "wage",
          "war",
          ".",
          "He",
          "had",
          "not",
          "raised",
          "what",
          "?"
         ],
         "categoryorder": "array",
         "domain": [
          0,
          1
         ],
         "tickangle": 45,
         "title": {
          "text": "tokens"
         }
        },
        "yaxis": {
         "anchor": "x",
         "domain": [
          0,
          1
         ],
         "title": {
          "text": "attn"
         }
        }
       }
      },
      "text/html": [
       "<div>                            <div id=\"7fbb53b5-00b4-415e-8d19-15b04569b220\" class=\"plotly-graph-div\" style=\"height:525px; width:100%;\"></div>            <script type=\"text/javascript\">                require([\"plotly\"], function(Plotly) {                    window.PLOTLYENV=window.PLOTLYENV || {};                                    if (document.getElementById(\"7fbb53b5-00b4-415e-8d19-15b04569b220\")) {                    Plotly.newPlot(                        \"7fbb53b5-00b4-415e-8d19-15b04569b220\",                        [{\"alignmentgroup\":\"True\",\"hovertemplate\":\"color=#ba4227<br>tokens=%{x}<br>attn=%{y}<extra></extra>\",\"legendgroup\":\"#ba4227\",\"marker\":{\"color\":\"#636efa\",\"pattern\":{\"shape\":\"\"}},\"name\":\"#ba4227\",\"offsetgroup\":\"#ba4227\",\"orientation\":\"v\",\"showlegend\":true,\"textposition\":\"auto\",\"x\":[\"Joe\",\"was\",\"n't\",\"prepared\",\"to\",\"wage\",\"war\",\".\",\"He\",\"had\",\"not\",\"raised\",\"what\",\"?\"],\"xaxis\":\"x\",\"y\":[0.09263938628308688,-0.1955642632684032,0.0,-0.033400547874296256,-0.2537800093310884,0.0259339504874056,0.17346557838198268,0.0,0.13918042705776146,-0.3173498475420505,-0.23192453051344636,-0.2871767371100778,-0.052705730606981846,0.0],\"yaxis\":\"y\",\"type\":\"bar\"}],                        {\"template\":{\"data\":{\"histogram2dcontour\":[{\"type\":\"histogram2dcontour\",\"colorbar\":{\"outlinewidth\":0,\"ticks\":\"\"},\"colorscale\":[[0.0,\"#0d0887\"],[0.1111111111111111,\"#46039f\"],[0.2222222222222222,\"#7201a8\"],[0.3333333333333333,\"#9c179e\"],[0.4444444444444444,\"#bd3786\"],[0.5555555555555556,\"#d8576b\"],[0.6666666666666666,\"#ed7953\"],[0.7777777777777778,\"#fb9f3a\"],[0.8888888888888888,\"#fdca26\"],[1.0,\"#f0f921\"]]}],\"choropleth\":[{\"type\":\"choropleth\",\"colorbar\":{\"outlinewidth\":0,\"ticks\":\"\"}}],\"histogram2d\":[{\"type\":\"histogram2d\",\"colorbar\":{\"outlinewidth\":0,\"ticks\":\"\"},\"colorscale\":[[0.0,\"#0d0887\"],[0.1111111111111111,\"#46039f\"],[0.2222222222222222,\"#7201a8\"],[0.3333333333333333,\"#9c179e\"],[0.4444444444444444,\"#bd3786\"],[0.5555555555555556,\"#d8576b\"],[0.6666666666666666,\"#ed7953\"],[0.7777777777777778,\"#fb9f3a\"],[0.8888888888888888,\"#fdca26\"],[1.0,\"#f0f921\"]]}],\"heatmap\":[{\"type\":\"heatmap\",\"colorbar\":{\"outlinewidth\":0,\"ticks\":\"\"},\"colorscale\":[[0.0,\"#0d0887\"],[0.1111111111111111,\"#46039f\"],[0.2222222222222222,\"#7201a8\"],[0.3333333333333333,\"#9c179e\"],[0.4444444444444444,\"#bd3786\"],[0.5555555555555556,\"#d8576b\"],[0.6666666666666666,\"#ed7953\"],[0.7777777777777778,\"#fb9f3a\"],[0.8888888888888888,\"#fdca26\"],[1.0,\"#f0f921\"]]}],\"heatmapgl\":[{\"type\":\"heatmapgl\",\"colorbar\":{\"outlinewidth\":0,\"ticks\":\"\"},\"colorscale\":[[0.0,\"#0d0887\"],[0.1111111111111111,\"#46039f\"],[0.2222222222222222,\"#7201a8\"],[0.3333333333333333,\"#9c179e\"],[0.4444444444444444,\"#bd3786\"],[0.5555555555555556,\"#d8576b\"],[0.6666666666666666,\"#ed7953\"],[0.7777777777777778,\"#fb9f3a\"],[0.8888888888888888,\"#fdca26\"],[1.0,\"#f0f921\"]]}],\"contourcarpet\":[{\"type\":\"contourcarpet\",\"colorbar\":{\"outlinewidth\":0,\"ticks\":\"\"}}],\"contour\":[{\"type\":\"contour\",\"colorbar\":{\"outlinewidth\":0,\"ticks\":\"\"},\"colorscale\":[[0.0,\"#0d0887\"],[0.1111111111111111,\"#46039f\"],[0.2222222222222222,\"#7201a8\"],[0.3333333333333333,\"#9c179e\"],[0.4444444444444444,\"#bd3786\"],[0.5555555555555556,\"#d8576b\"],[0.6666666666666666,\"#ed7953\"],[0.7777777777777778,\"#fb9f3a\"],[0.8888888888888888,\"#fdca26\"],[1.0,\"#f0f921\"]]}],\"surface\":[{\"type\":\"surface\",\"colorbar\":{\"outlinewidth\":0,\"ticks\":\"\"},\"colorscale\":[[0.0,\"#0d0887\"],[0.1111111111111111,\"#46039f\"],[0.2222222222222222,\"#7201a8\"],[0.3333333333333333,\"#9c179e\"],[0.4444444444444444,\"#bd3786\"],[0.5555555555555556,\"#d8576b\"],[0.6666666666666666,\"#ed7953\"],[0.7777777777777778,\"#fb9f3a\"],[0.8888888888888888,\"#fdca26\"],[1.0,\"#f0f921\"]]}],\"mesh3d\":[{\"type\":\"mesh3d\",\"colorbar\":{\"outlinewidth\":0,\"ticks\":\"\"}}],\"scatter\":[{\"fillpattern\":{\"fillmode\":\"overlay\",\"size\":10,\"solidity\":0.2},\"type\":\"scatter\"}],\"parcoords\":[{\"type\":\"parcoords\",\"line\":{\"colorbar\":{\"outlinewidth\":0,\"ticks\":\"\"}}}],\"scatterpolargl\":[{\"type\":\"scatterpolargl\",\"marker\":{\"colorbar\":{\"outlinewidth\":0,\"ticks\":\"\"}}}],\"bar\":[{\"error_x\":{\"color\":\"#2a3f5f\"},\"error_y\":{\"color\":\"#2a3f5f\"},\"marker\":{\"line\":{\"color\":\"#E5ECF6\",\"width\":0.5},\"pattern\":{\"fillmode\":\"overlay\",\"size\":10,\"solidity\":0.2}},\"type\":\"bar\"}],\"scattergeo\":[{\"type\":\"scattergeo\",\"marker\":{\"colorbar\":{\"outlinewidth\":0,\"ticks\":\"\"}}}],\"scatterpolar\":[{\"type\":\"scatterpolar\",\"marker\":{\"colorbar\":{\"outlinewidth\":0,\"ticks\":\"\"}}}],\"histogram\":[{\"marker\":{\"pattern\":{\"fillmode\":\"overlay\",\"size\":10,\"solidity\":0.2}},\"type\":\"histogram\"}],\"scattergl\":[{\"type\":\"scattergl\",\"marker\":{\"colorbar\":{\"outlinewidth\":0,\"ticks\":\"\"}}}],\"scatter3d\":[{\"type\":\"scatter3d\",\"line\":{\"colorbar\":{\"outlinewidth\":0,\"ticks\":\"\"}},\"marker\":{\"colorbar\":{\"outlinewidth\":0,\"ticks\":\"\"}}}],\"scattermapbox\":[{\"type\":\"scattermapbox\",\"marker\":{\"colorbar\":{\"outlinewidth\":0,\"ticks\":\"\"}}}],\"scatterternary\":[{\"type\":\"scatterternary\",\"marker\":{\"colorbar\":{\"outlinewidth\":0,\"ticks\":\"\"}}}],\"scattercarpet\":[{\"type\":\"scattercarpet\",\"marker\":{\"colorbar\":{\"outlinewidth\":0,\"ticks\":\"\"}}}],\"carpet\":[{\"aaxis\":{\"endlinecolor\":\"#2a3f5f\",\"gridcolor\":\"white\",\"linecolor\":\"white\",\"minorgridcolor\":\"white\",\"startlinecolor\":\"#2a3f5f\"},\"baxis\":{\"endlinecolor\":\"#2a3f5f\",\"gridcolor\":\"white\",\"linecolor\":\"white\",\"minorgridcolor\":\"white\",\"startlinecolor\":\"#2a3f5f\"},\"type\":\"carpet\"}],\"table\":[{\"cells\":{\"fill\":{\"color\":\"#EBF0F8\"},\"line\":{\"color\":\"white\"}},\"header\":{\"fill\":{\"color\":\"#C8D4E3\"},\"line\":{\"color\":\"white\"}},\"type\":\"table\"}],\"barpolar\":[{\"marker\":{\"line\":{\"color\":\"#E5ECF6\",\"width\":0.5},\"pattern\":{\"fillmode\":\"overlay\",\"size\":10,\"solidity\":0.2}},\"type\":\"barpolar\"}],\"pie\":[{\"automargin\":true,\"type\":\"pie\"}]},\"layout\":{\"autotypenumbers\":\"strict\",\"colorway\":[\"#636efa\",\"#EF553B\",\"#00cc96\",\"#ab63fa\",\"#FFA15A\",\"#19d3f3\",\"#FF6692\",\"#B6E880\",\"#FF97FF\",\"#FECB52\"],\"font\":{\"color\":\"#2a3f5f\"},\"hovermode\":\"closest\",\"hoverlabel\":{\"align\":\"left\"},\"paper_bgcolor\":\"white\",\"plot_bgcolor\":\"#E5ECF6\",\"polar\":{\"bgcolor\":\"#E5ECF6\",\"angularaxis\":{\"gridcolor\":\"white\",\"linecolor\":\"white\",\"ticks\":\"\"},\"radialaxis\":{\"gridcolor\":\"white\",\"linecolor\":\"white\",\"ticks\":\"\"}},\"ternary\":{\"bgcolor\":\"#E5ECF6\",\"aaxis\":{\"gridcolor\":\"white\",\"linecolor\":\"white\",\"ticks\":\"\"},\"baxis\":{\"gridcolor\":\"white\",\"linecolor\":\"white\",\"ticks\":\"\"},\"caxis\":{\"gridcolor\":\"white\",\"linecolor\":\"white\",\"ticks\":\"\"}},\"coloraxis\":{\"colorbar\":{\"outlinewidth\":0,\"ticks\":\"\"}},\"colorscale\":{\"sequential\":[[0.0,\"#0d0887\"],[0.1111111111111111,\"#46039f\"],[0.2222222222222222,\"#7201a8\"],[0.3333333333333333,\"#9c179e\"],[0.4444444444444444,\"#bd3786\"],[0.5555555555555556,\"#d8576b\"],[0.6666666666666666,\"#ed7953\"],[0.7777777777777778,\"#fb9f3a\"],[0.8888888888888888,\"#fdca26\"],[1.0,\"#f0f921\"]],\"sequentialminus\":[[0.0,\"#0d0887\"],[0.1111111111111111,\"#46039f\"],[0.2222222222222222,\"#7201a8\"],[0.3333333333333333,\"#9c179e\"],[0.4444444444444444,\"#bd3786\"],[0.5555555555555556,\"#d8576b\"],[0.6666666666666666,\"#ed7953\"],[0.7777777777777778,\"#fb9f3a\"],[0.8888888888888888,\"#fdca26\"],[1.0,\"#f0f921\"]],\"diverging\":[[0,\"#8e0152\"],[0.1,\"#c51b7d\"],[0.2,\"#de77ae\"],[0.3,\"#f1b6da\"],[0.4,\"#fde0ef\"],[0.5,\"#f7f7f7\"],[0.6,\"#e6f5d0\"],[0.7,\"#b8e186\"],[0.8,\"#7fbc41\"],[0.9,\"#4d9221\"],[1,\"#276419\"]]},\"xaxis\":{\"gridcolor\":\"white\",\"linecolor\":\"white\",\"ticks\":\"\",\"title\":{\"standoff\":15},\"zerolinecolor\":\"white\",\"automargin\":true,\"zerolinewidth\":2},\"yaxis\":{\"gridcolor\":\"white\",\"linecolor\":\"white\",\"ticks\":\"\",\"title\":{\"standoff\":15},\"zerolinecolor\":\"white\",\"automargin\":true,\"zerolinewidth\":2},\"scene\":{\"xaxis\":{\"backgroundcolor\":\"#E5ECF6\",\"gridcolor\":\"white\",\"linecolor\":\"white\",\"showbackground\":true,\"ticks\":\"\",\"zerolinecolor\":\"white\",\"gridwidth\":2},\"yaxis\":{\"backgroundcolor\":\"#E5ECF6\",\"gridcolor\":\"white\",\"linecolor\":\"white\",\"showbackground\":true,\"ticks\":\"\",\"zerolinecolor\":\"white\",\"gridwidth\":2},\"zaxis\":{\"backgroundcolor\":\"#E5ECF6\",\"gridcolor\":\"white\",\"linecolor\":\"white\",\"showbackground\":true,\"ticks\":\"\",\"zerolinecolor\":\"white\",\"gridwidth\":2}},\"shapedefaults\":{\"line\":{\"color\":\"#2a3f5f\"}},\"annotationdefaults\":{\"arrowcolor\":\"#2a3f5f\",\"arrowhead\":0,\"arrowwidth\":1},\"geo\":{\"bgcolor\":\"white\",\"landcolor\":\"#E5ECF6\",\"subunitcolor\":\"white\",\"showland\":true,\"showlakes\":true,\"lakecolor\":\"white\"},\"title\":{\"x\":0.05},\"mapbox\":{\"style\":\"light\"}}},\"xaxis\":{\"anchor\":\"y\",\"domain\":[0.0,1.0],\"title\":{\"text\":\"tokens\"},\"categoryorder\":\"array\",\"categoryarray\":[\"Joe\",\"was\",\"n't\",\"prepared\",\"to\",\"wage\",\"war\",\".\",\"He\",\"had\",\"not\",\"raised\",\"what\",\"?\"],\"tickangle\":45},\"yaxis\":{\"anchor\":\"x\",\"domain\":[0.0,1.0],\"title\":{\"text\":\"attn\"}},\"legend\":{\"title\":{\"text\":\"color\"},\"tracegroupgap\":0},\"title\":{\"text\":\"Joe was n't prepared to wage war . He had not raised what ?\"},\"barmode\":\"relative\"},                        {\"responsive\": true}                    ).then(function(){\n",
       "                            \n",
       "var gd = document.getElementById('7fbb53b5-00b4-415e-8d19-15b04569b220');\n",
       "var x = new MutationObserver(function (mutations, observer) {{\n",
       "        var display = window.getComputedStyle(gd).display;\n",
       "        if (!display || display === 'none') {{\n",
       "            console.log([gd, 'removed!']);\n",
       "            Plotly.purge(gd);\n",
       "            observer.disconnect();\n",
       "        }}\n",
       "}});\n",
       "\n",
       "// Listen for the removal of the full notebook cells\n",
       "var notebookContainer = gd.closest('#notebook-container');\n",
       "if (notebookContainer) {{\n",
       "    x.observe(notebookContainer, {childList: true});\n",
       "}}\n",
       "\n",
       "// Listen for the clearing of the current output cell\n",
       "var outputEl = gd.closest('.output');\n",
       "if (outputEl) {{\n",
       "    x.observe(outputEl, {childList: true});\n",
       "}}\n",
       "\n",
       "                        })                };                });            </script>        </div>"
      ]
     },
     "metadata": {},
     "output_type": "display_data"
    }
   ],
   "source": [
    "import pandas as pd\n",
    "import plotly.express as px\n",
    "import random\n",
    "\n",
    "# look at a random sample\n",
    "rnd_i = round(random.random() * len(documents))\n",
    "doc_id = docids[rnd_i]\n",
    "\n",
    "# get sample\n",
    "sample = list(\n",
    "    filter(lambda x: list(x.evidences)[0][0].docid == doc_id,\n",
    "    map(lambda x: x, annotations\n",
    ")))[0]\n",
    "# get rationale\n",
    "evidence = list(sample.evidences)[0][0]\n",
    "c1 = '#ba4227'\n",
    "c2 = '#5869e8'\n",
    "color_seq = [c1 if x in range(evidence.start_token, evidence.end_token) \n",
    "             else c2 for x in range(len(documents[doc_id]))]\n",
    "# get answers\n",
    "answers = sample.query.replace('[sep]','|')\n",
    "truth = answers.split(\" | \")[{'A':0,'B':1,'C':2,'D':3,'E':4,}[sample.classification]]\n",
    "prediction = answers.split(\" | \")[np.argmax(preds_attn[doc_id]['probas'])]\n",
    "\n",
    "# plot\n",
    "df = pd.DataFrame(\n",
    "                list(zip(\n",
    "                    documents[doc_id], \n",
    "                    preds_attn[doc_id]['attn'],\n",
    "                    color_seq\n",
    "                )), \n",
    "                columns=['tokens', 'attn', 'color'])\n",
    "fig = px.bar(df,\n",
    "             title=\" \".join(documents[doc_id]),\n",
    "             x='tokens', \n",
    "             y='attn',\n",
    "             color = 'color',\n",
    "             category_orders ={'tokens': documents[doc_id]}\n",
    "            )\n",
    "fig.update_xaxes(tickangle=45)\n",
    "\n",
    "# Additional data\n",
    "print(list(sample.evidences)[0][0].docid)\n",
    "print('Q:', \" \".join(documents[doc_id]))\n",
    "print('A:', answers)\n",
    "print('evidence:', list(sample.evidences)[0][0].text)\n",
    "print('prediction:', prediction)\n",
    "print('truth:', truth)\n",
    "fig.show()"
   ]
  },
  {
   "cell_type": "markdown",
   "metadata": {},
   "source": [
    "Findings:\n",
    "- Wh- words (notably Where) receive very high weights from the system)\n",
    "- Stop words are equally considered gold as semantically richer words\n",
    "    - because annotators mark spans of text\n",
    "    - the system tends to rank these 'fillers' lower\n",
    "- Sometimes the system can rank words unsensibly high, possibly due to confusion of words\n",
    "    - eg 3a92d14522b56fea9a99634d659904ea\n",
    "- Many of the annotations make sense with the prediction (=comprehensiveness), but are actually wrong. So comprehensiveness can be very high for a system with low competence\n",
    "    - eg 7428b0c780428d64116d060520b9fa0c\n",
    "- A substantial amount of gold rationales have each word marked as explanation...\n",
    "    - see section below\n",
    "- both comp and suff are functions of accuracy\n",
    "    - mb we should look for metrics looking at rationales alone?"
   ]
  },
  {
   "cell_type": "markdown",
   "metadata": {},
   "source": [
    "## Aggreement (cohen's $\\kappa$)\n",
    "What is the agreement between the systems weights and gold rationales?  \n",
    "top_x tokens by weights are chosen, where x is the amount of tokens selected for the gold rationale of the sample."
   ]
  },
  {
   "cell_type": "code",
   "execution_count": 118,
   "metadata": {},
   "outputs": [
    {
     "data": {
      "text/plain": [
       "0.4444444444444444"
      ]
     },
     "execution_count": 118,
     "metadata": {},
     "output_type": "execute_result"
    }
   ],
   "source": [
    "from sklearn.metrics import cohen_kappa_score, precision_score\n",
    "\n",
    "# mask of marked evidences (gold)\n",
    "evidence_masks = []\n",
    "evidence_lens = []\n",
    "for x in annotations:\n",
    "    start = list(x.evidences)[0][0].start_token\n",
    "    end = list(x.evidences)[0][0].end_token\n",
    "    l = len(documents[list(x.evidences)[0][0].docid])\n",
    "    evidence_masks.append(\n",
    "        [1 if i in range(start,end) else 0 for i in range(l)]\n",
    "    )\n",
    "    evidence_lens.append(end-start)\n",
    "\n",
    "# mask of top_k weighted tokens according to system\n",
    "top_masks = []\n",
    "for i in range(len(docids)):\n",
    "    attn = preds_attn[docids[i]]['attn']\n",
    "    top_k = evidence_lens[i]\n",
    "    top_idx = np.sort(np.argpartition(attn,-top_k)[-top_k:])\n",
    "    top_masks.append(\n",
    "        [1 if x in top_idx else 0 for x in range(len(attn))]\n",
    "    )\n",
    "\n",
    "# ASSERTS\n",
    "assert len(evidence_masks) == len(top_masks)\n",
    "assert all([len(evidence_masks[i]) == len(top_masks[i])])\n",
    "\n",
    "# SCORE\n",
    "_scoring = cohen_kappa_score # precision_score \n",
    "aggreement = []\n",
    "for i in range(len(evidence_masks)):\n",
    "    if all(evidence_masks[i]) and all(top_masks[i]): break # TODO what do w. non-rationales\n",
    "    else: score = _scoring(evidence_masks[i], top_masks[i])\n",
    "    aggreement.append(score)\n",
    "\n",
    "np.mean(aggreement)"
   ]
  },
  {
   "cell_type": "markdown",
   "metadata": {},
   "source": [
    "## How many gold rationales are non_rationales?\n",
    "having each token of the question selected as being part of the rationale,\n",
    "(so len(rationale) == len(tokens))"
   ]
  },
  {
   "cell_type": "code",
   "execution_count": 76,
   "metadata": {},
   "outputs": [
    {
     "data": {
      "text/plain": [
       "0.3351749539594843"
      ]
     },
     "execution_count": 76,
     "metadata": {},
     "output_type": "execute_result"
    }
   ],
   "source": [
    "count = 0\n",
    "for x in annotations:\n",
    "    start = list(x.evidences)[0][0].start_token\n",
    "    end = list(x.evidences)[0][0].end_token\n",
    "    l = len(documents[list(x.evidences)[0][0].docid])\n",
    "    count += int(end-start==l)\n",
    "    \n",
    "count / len(annotations)"
   ]
  },
  {
   "cell_type": "markdown",
   "metadata": {},
   "source": [
    "pretty much exactly a third of the rationales are \"useless\" is this on purpose?"
   ]
  },
  {
   "cell_type": "code",
   "execution_count": 220,
   "metadata": {
    "scrolled": false
   },
   "outputs": [
    {
     "data": {
      "application/vnd.plotly.v1+json": {
       "config": {
        "plotlyServerURL": "https://plot.ly"
       },
       "data": [
        {
         "alignmentgroup": "True",
         "bingroup": "x",
         "hovertemplate": "fract=%{x}<br>count=%{y}<extra></extra>",
         "legendgroup": "",
         "marker": {
          "color": "#636efa",
          "pattern": {
           "shape": ""
          }
         },
         "name": "",
         "nbinsx": 20,
         "offsetgroup": "",
         "orientation": "v",
         "showlegend": false,
         "type": "histogram",
         "x": [
          0.2222222222222222,
          0.1,
          1,
          0.42857142857142855,
          0.08695652173913043,
          0.1,
          0.058823529411764705,
          1,
          0.14285714285714285,
          1,
          1,
          0.14285714285714285,
          0.46153846153846156,
          1,
          1,
          1,
          1,
          1,
          0.19047619047619047,
          0.3333333333333333,
          0.42857142857142855,
          0.13636363636363635,
          0.10526315789473684,
          0.125,
          0.2777777777777778,
          0.10526315789473684,
          1,
          0.13333333333333333,
          0.17647058823529413,
          0.05,
          1,
          0.13333333333333333,
          1,
          0.125,
          0.05555555555555555,
          0.42857142857142855,
          0.5,
          0.4166666666666667,
          0.21428571428571427,
          0.7,
          0.36363636363636365,
          0.2,
          1,
          1,
          0.15384615384615385,
          0.8125,
          0.05,
          0.10714285714285714,
          0.5454545454545454,
          0.5555555555555556,
          1,
          0.17857142857142858,
          0.45454545454545453,
          1,
          1,
          0.3,
          1,
          1,
          1,
          1,
          0.07407407407407407,
          0.625,
          0.11538461538461539,
          0.16666666666666666,
          0.2631578947368421,
          0.10526315789473684,
          1,
          0.25,
          0.7857142857142857,
          0.36363636363636365,
          1,
          1,
          0.3125,
          0.075,
          0.3,
          0.21739130434782608,
          1,
          0.2857142857142857,
          1,
          0.17647058823529413,
          0.09523809523809523,
          0.07692307692307693,
          0.9090909090909091,
          0.5789473684210527,
          0.030303030303030304,
          0.5909090909090909,
          0.4666666666666667,
          1,
          1,
          0.2727272727272727,
          1,
          1,
          1,
          0.0625,
          0.1111111111111111,
          0.5,
          1,
          1,
          0.5714285714285714,
          0.038461538461538464,
          1,
          1,
          1,
          1,
          1,
          0.6666666666666666,
          1,
          1,
          0.045454545454545456,
          0.4444444444444444,
          0.2727272727272727,
          0.07142857142857142,
          1,
          0.4444444444444444,
          1,
          1,
          0.3,
          0.06666666666666667,
          1,
          0.375,
          0.36363636363636365,
          0.03571428571428571,
          0.10526315789473684,
          1,
          0.21052631578947367,
          0.38461538461538464,
          0.5714285714285714,
          0.2,
          0.45454545454545453,
          0.14705882352941177,
          0.125,
          0.4375,
          0.1111111111111111,
          0.42857142857142855,
          0.26666666666666666,
          0.1,
          0.36363636363636365,
          1,
          1,
          0.38461538461538464,
          0.35,
          0.18181818181818182,
          0.46153846153846156,
          0.2222222222222222,
          0.0625,
          0.18181818181818182,
          0.42857142857142855,
          0.3333333333333333,
          0.3333333333333333,
          1,
          0.21052631578947367,
          0.35714285714285715,
          1,
          0.1111111111111111,
          0.07692307692307693,
          0.2222222222222222,
          1,
          1,
          0.125,
          1,
          0.25,
          0.0625,
          0.5555555555555556,
          0.6666666666666666,
          0.5238095238095238,
          1,
          1,
          0.25,
          1,
          0.058823529411764705,
          0.26666666666666666,
          0.4,
          0.25,
          1,
          0.18181818181818182,
          0.25,
          1,
          0.1111111111111111,
          0.18181818181818182,
          0.05555555555555555,
          0.15384615384615385,
          0.7,
          1,
          0.18181818181818182,
          0.2,
          0.5,
          0.14285714285714285,
          1,
          0.23076923076923078,
          1,
          0.1111111111111111,
          0.7272727272727273,
          0.3333333333333333,
          0.1,
          0.2857142857142857,
          0.23076923076923078,
          0.08695652173913043,
          0.125,
          1,
          0.15384615384615385,
          0.5,
          1,
          1,
          0.3125,
          1,
          1,
          0.3333333333333333,
          0.7142857142857143,
          1,
          0.26666666666666666,
          0.3333333333333333,
          0.125,
          1,
          0.2,
          1,
          0.28,
          0.14285714285714285,
          0.2857142857142857,
          0.15384615384615385,
          0.26666666666666666,
          0.125,
          1,
          1,
          0.45454545454545453,
          1,
          0.6666666666666666,
          0.9411764705882353,
          0.13333333333333333,
          0.4444444444444444,
          1,
          0.21739130434782608,
          0.09090909090909091,
          0.4166666666666667,
          0.08333333333333333,
          0.18181818181818182,
          0.5384615384615384,
          1,
          1,
          0.23529411764705882,
          0.07142857142857142,
          1,
          0.25,
          1,
          1,
          0.11764705882352941,
          0.05555555555555555,
          1,
          0.23076923076923078,
          1,
          1,
          0.5,
          0.25,
          1,
          0.34615384615384615,
          1,
          1,
          0.42857142857142855,
          0.23076923076923078,
          1,
          0.6666666666666666,
          0.05555555555555555,
          0.26666666666666666,
          1,
          1,
          0.2727272727272727,
          0.15384615384615385,
          1,
          0.18181818181818182,
          1,
          0.21428571428571427,
          0.15384615384615385,
          1,
          0.2916666666666667,
          1,
          0.14285714285714285,
          0.20833333333333334,
          1,
          1,
          0.75,
          1,
          0.3076923076923077,
          0.26666666666666666,
          0.3333333333333333,
          1,
          1,
          0.06666666666666667,
          0.21052631578947367,
          1,
          0.09090909090909091,
          1,
          0.2,
          0.5,
          1,
          0.42105263157894735,
          1,
          1,
          1,
          0.75,
          0.21052631578947367,
          0.2222222222222222,
          0.34375,
          0.1875,
          0.075,
          0.05263157894736842,
          0.6666666666666666,
          0.6363636363636364,
          1,
          0.2857142857142857,
          1,
          1,
          0.3333333333333333,
          0.07407407407407407,
          0.23076923076923078,
          0.16666666666666666,
          0.3333333333333333,
          1,
          0.2857142857142857,
          1,
          0.2727272727272727,
          0.23076923076923078,
          1,
          1,
          0.14285714285714285,
          0.6153846153846154,
          1,
          1,
          1,
          0.07407407407407407,
          0.14285714285714285,
          1,
          1,
          1,
          0.1875,
          1,
          0.25,
          0.1,
          1,
          0.02631578947368421,
          1,
          0.4,
          0.125,
          0.4166666666666667,
          0.2631578947368421,
          1,
          0.125,
          0.23076923076923078,
          1,
          1,
          0.11764705882352941,
          1,
          0.2222222222222222,
          0.26666666666666666,
          0.17647058823529413,
          1,
          0.8888888888888888,
          0.4117647058823529,
          0.8888888888888888,
          0.06451612903225806,
          0.5,
          0.3333333333333333,
          0.26666666666666666,
          1,
          1,
          0.15384615384615385,
          0.13333333333333333,
          0.7368421052631579,
          0.3157894736842105,
          0.25,
          0.18181818181818182,
          0.1,
          0.2,
          0.25,
          0.3333333333333333,
          0.3333333333333333,
          0.4,
          0.23076923076923078,
          0.23076923076923078,
          0.14285714285714285,
          1,
          0.35,
          1,
          1,
          1,
          0.1111111111111111,
          1,
          0.18181818181818182,
          0.42857142857142855,
          1,
          1,
          1,
          0.4666666666666667,
          1,
          1,
          0.1111111111111111,
          1,
          1,
          0.38461538461538464,
          1,
          1,
          1,
          1,
          0.32142857142857145,
          0.9230769230769231,
          0.8888888888888888,
          1,
          0.9444444444444444,
          0.6428571428571429,
          1,
          0.42857142857142855,
          0.058823529411764705,
          1,
          0.4444444444444444,
          0.3684210526315789,
          1,
          0.2,
          1,
          0.36363636363636365,
          0.6363636363636364,
          0.4117647058823529,
          1,
          0.5,
          0.21428571428571427,
          1,
          0.2857142857142857,
          0.03225806451612903,
          0.10810810810810811,
          0.4444444444444444,
          0.25,
          0.15384615384615385,
          0.2,
          1,
          0.3333333333333333,
          1,
          0.42857142857142855,
          0.3888888888888889,
          0.375,
          1,
          0.5,
          1,
          1,
          1,
          1,
          0.3333333333333333,
          1,
          0.7857142857142857,
          1,
          0.18518518518518517,
          0.5,
          0.21052631578947367,
          0.4,
          0.38235294117647056,
          0.16666666666666666,
          0.2857142857142857,
          1,
          1,
          1,
          1,
          1,
          0.07142857142857142,
          0.7,
          0.17647058823529413,
          0.6666666666666666,
          0.06666666666666667,
          1,
          0.1875,
          0.2857142857142857,
          0.15384615384615385,
          0.85,
          1,
          1,
          1,
          1,
          0.14285714285714285,
          1,
          0.09090909090909091,
          1,
          0.5714285714285714,
          0.38461538461538464,
          1,
          1,
          0.35714285714285715,
          1,
          0.16666666666666666,
          1,
          0.16666666666666666,
          0.42857142857142855,
          1,
          0.3333333333333333,
          0.1875,
          0.15384615384615385,
          0.5714285714285714,
          0.5,
          0.23529411764705882,
          1,
          1,
          0.3333333333333333,
          0.16,
          0.17391304347826086,
          1,
          0.08,
          1,
          1,
          1,
          0.18181818181818182,
          1,
          0.2857142857142857,
          0.5714285714285714,
          0.28,
          1,
          0.2608695652173913,
          1,
          0.05263157894736842,
          1,
          1,
          0.20833333333333334,
          0.4,
          0.06666666666666667,
          0.07692307692307693,
          0.625,
          1,
          1,
          1,
          0.08695652173913043,
          0.19047619047619047,
          1,
          1,
          0.3333333333333333,
          0.1875,
          0.5882352941176471,
          0.05555555555555555,
          0.21428571428571427,
          0.10526315789473684,
          0.2608695652173913,
          0.16666666666666666,
          0.3,
          1,
          0.5,
          0.2,
          0.09090909090909091,
          1,
          0.07692307692307693,
          0.045454545454545456,
          1,
          0.7,
          1,
          1,
          1,
          0.08695652173913043,
          0.75,
          0.45714285714285713,
          0.4444444444444444,
          0.5454545454545454,
          0.1875,
          1,
          1,
          1,
          1,
          1,
          0.14814814814814814,
          0.4166666666666667,
          0.13636363636363635,
          1,
          1,
          1,
          0.6,
          0.5454545454545454,
          0.08333333333333333,
          1,
          1,
          0.4,
          0.5833333333333334,
          1,
          0.16666666666666666,
          0.4,
          0.1,
          0.26666666666666666,
          0.15384615384615385,
          1,
          1,
          1,
          0.07692307692307693,
          0.2222222222222222,
          0.23529411764705882,
          0.375,
          0.24324324324324326,
          0.5,
          1,
          1,
          0.4444444444444444,
          0.23076923076923078,
          1,
          0.4,
          0.6428571428571429,
          1,
          1,
          1,
          0.043478260869565216,
          1,
          1,
          1,
          0.29411764705882354,
          1,
          1,
          1,
          1,
          0.2631578947368421,
          0.16666666666666666,
          1,
          0.2727272727272727,
          1,
          0.14285714285714285,
          0.47368421052631576,
          1,
          0.1,
          0.25,
          0.3333333333333333,
          0.18181818181818182,
          1,
          1,
          0.15384615384615385,
          1,
          0.3076923076923077,
          0.17647058823529413,
          0.22727272727272727,
          0.5555555555555556,
          0.1111111111111111,
          0.25,
          0.09523809523809523,
          1,
          1,
          0.07142857142857142,
          1,
          0.06666666666666667,
          1,
          1,
          0.09090909090909091,
          0.5454545454545454,
          1,
          0.5,
          0.625,
          0.3125,
          0.2857142857142857,
          1,
          0.25,
          0.7,
          0.2222222222222222,
          1,
          0.3125,
          1,
          0.043478260869565216,
          0.5,
          0.5,
          0.14705882352941177,
          0.0625,
          0.5714285714285714,
          0.5,
          0.11764705882352941,
          0.23076923076923078,
          0.125,
          0.5454545454545454,
          0.3076923076923077,
          0.2,
          0.16,
          0.5,
          0.09090909090909091,
          0.23076923076923078,
          0.42857142857142855,
          0.5,
          1,
          0.1875,
          0.3333333333333333,
          1,
          0.21052631578947367,
          0.3,
          0.5,
          1,
          0.3333333333333333,
          0.0625,
          0.125,
          0.25,
          0.5,
          0.625,
          0.3,
          0.7307692307692307,
          0.2,
          0.1111111111111111,
          0.1111111111111111,
          0.1875,
          0.7272727272727273,
          0.25,
          0.5714285714285714,
          1,
          0.42857142857142855,
          0.07692307692307693,
          0.3333333333333333,
          0.3,
          0.1111111111111111,
          0.0625,
          0.25,
          0.2857142857142857,
          0.06666666666666667,
          0.4,
          1,
          1,
          0.2,
          1,
          0.2857142857142857,
          0.8571428571428571,
          0.25,
          0.12903225806451613,
          1,
          0.4,
          1,
          0.6666666666666666,
          1,
          0.45454545454545453,
          1,
          0.043478260869565216,
          0.13636363636363635,
          1,
          0.1,
          0.18181818181818182,
          1,
          0.05,
          0.7777777777777778,
          0.3,
          0.06896551724137931,
          1,
          1,
          0.21428571428571427,
          0.2727272727272727,
          1,
          0.5,
          1,
          1,
          1,
          1,
          0.25,
          1,
          0.75,
          0.5,
          0.2,
          1,
          0.3,
          1,
          0.125,
          0.047619047619047616,
          0.7142857142857143,
          0.12,
          0.2857142857142857,
          0.3333333333333333,
          1,
          0.4444444444444444,
          0.5,
          0.15384615384615385,
          1,
          1,
          0.2857142857142857,
          1,
          1,
          1,
          1,
          1,
          0.625,
          0.2857142857142857,
          0.1,
          0.07692307692307693,
          0.25,
          0.2857142857142857,
          0.375,
          0.21052631578947367,
          0.4,
          1,
          0.08695652173913043,
          0.21428571428571427,
          1,
          0.10526315789473684,
          0.16666666666666666,
          0.8,
          0.125,
          1,
          0.05263157894736842,
          1,
          0.3333333333333333,
          1,
          0.42857142857142855,
          1,
          1,
          0.3,
          0.625,
          1,
          0.15789473684210525,
          0.5714285714285714,
          0.4166666666666667,
          0.36363636363636365,
          0.029411764705882353,
          0.4166666666666667,
          1,
          1,
          0.08333333333333333,
          0.23076923076923078,
          0.2,
          0.3333333333333333,
          0.043478260869565216,
          0.15789473684210525,
          1,
          1,
          1,
          0.21428571428571427,
          1,
          0.25,
          0.5833333333333334,
          0.6153846153846154,
          1,
          0.038461538461538464,
          1,
          1,
          1,
          0.42857142857142855,
          1,
          1,
          0.3125,
          0.15,
          0.19047619047619047,
          0.3,
          0.6,
          0.6071428571428571,
          1,
          0.15384615384615385,
          0.09090909090909091,
          0.3333333333333333,
          1,
          1,
          0.47368421052631576,
          0.21428571428571427,
          0.4444444444444444,
          0.08333333333333333,
          1,
          0.3333333333333333,
          0.3333333333333333,
          0.36363636363636365,
          0.14285714285714285,
          0.42857142857142855,
          0.11538461538461539,
          0.05263157894736842,
          1,
          1,
          1,
          0.05263157894736842,
          0.13333333333333333,
          1,
          0.42857142857142855,
          1,
          0.17647058823529413,
          1,
          0.4166666666666667,
          0.46153846153846156,
          0.058823529411764705,
          0.4666666666666667,
          0.2,
          1,
          0.2,
          1,
          0.19230769230769232,
          0.10526315789473684,
          1,
          1,
          0.058823529411764705,
          0.2,
          0.5555555555555556,
          1,
          0.1,
          1,
          1,
          0.17647058823529413,
          0.26666666666666666,
          1,
          0.6,
          0.06666666666666667,
          1,
          0.6521739130434783,
          1,
          0.08695652173913043,
          0.15,
          0.4,
          0.08,
          0.13333333333333333,
          0.26666666666666666,
          0.058823529411764705,
          0.8125,
          0.05555555555555555,
          0.4444444444444444,
          0.13333333333333333,
          1,
          0.7,
          1,
          0.2,
          1,
          0.25,
          0.3333333333333333,
          1,
          0.45454545454545453,
          1,
          0.09090909090909091,
          1,
          0.7692307692307693,
          1,
          0.11538461538461539,
          0.5,
          0.26666666666666666,
          0.06666666666666667,
          1,
          0.4,
          0.07142857142857142,
          1,
          0.14285714285714285,
          0.3333333333333333,
          1,
          0.3333333333333333,
          0.28125,
          0.45454545454545453,
          0.7272727272727273,
          0.16666666666666666,
          0.2,
          0.1875,
          0.5,
          0.875,
          1,
          0.041666666666666664,
          0.038461538461538464,
          1,
          0.2857142857142857,
          0.125,
          1,
          0.07142857142857142,
          0.1724137931034483,
          0.23529411764705882,
          1,
          0.125,
          0.1111111111111111,
          1,
          0.2631578947368421,
          0.35294117647058826,
          0.058823529411764705,
          0.375,
          0.6666666666666666,
          0.2,
          0.42857142857142855,
          0.625,
          0.3333333333333333,
          1,
          0.09523809523809523,
          1,
          0.2631578947368421,
          1,
          0.13333333333333333,
          1,
          0.22727272727272727,
          1,
          0.5555555555555556,
          0.3157894736842105,
          1,
          1,
          0.08695652173913043,
          0.2,
          0.35714285714285715,
          0.28,
          0.2222222222222222,
          0.045454545454545456,
          0.35714285714285715,
          1,
          1,
          1,
          0.25,
          0.2,
          1,
          1,
          0.07142857142857142,
          0.5,
          1,
          0.18181818181818182,
          0.5714285714285714,
          0.1111111111111111,
          0.25,
          1,
          0.1111111111111111,
          0.2,
          0.07692307692307693,
          1,
          0.42857142857142855,
          0.25,
          1,
          0.16666666666666666,
          1,
          0.15384615384615385,
          1,
          0.3333333333333333,
          0.5,
          0.25,
          0.5833333333333334,
          0.38461538461538464,
          0.1,
          0.22727272727272727,
          0.25,
          0.3333333333333333,
          0.5384615384615384,
          0.75,
          0.08333333333333333,
          1,
          1,
          0.0625,
          0.35714285714285715,
          1,
          0.5,
          0.2857142857142857,
          0.16666666666666666,
          1,
          0.10714285714285714,
          0.42857142857142855,
          0.375,
          1,
          0.42857142857142855,
          0.75,
          0.625,
          0.05263157894736842,
          0.2222222222222222,
          1,
          0.23529411764705882,
          1,
          0.3333333333333333,
          1,
          0.4166666666666667,
          0.3333333333333333,
          1,
          0.38461538461538464,
          0.0625,
          1,
          0.16666666666666666,
          0.18181818181818182,
          0.23076923076923078,
          0.2222222222222222,
          0.23809523809523808,
          0.25,
          0.3333333333333333,
          1,
          0.1111111111111111,
          1,
          1,
          1,
          0.23076923076923078,
          0.375,
          0.06666666666666667,
          1,
          0.45,
          1,
          0.29411764705882354,
          1,
          0.21428571428571427,
          0.4444444444444444,
          0.4,
          0.0625,
          1,
          0.11764705882352941,
          0.2222222222222222,
          0.09090909090909091,
          1,
          0.5454545454545454,
          0.3,
          1,
          0.15384615384615385,
          0.47368421052631576,
          0.4,
          0.16666666666666666,
          0.09090909090909091,
          0.0625,
          1,
          1,
          0.125,
          0.4,
          0.3076923076923077,
          0.6,
          1,
          0.15384615384615385,
          0.05263157894736842,
          0.4,
          0.15
         ],
         "xaxis": "x",
         "yaxis": "y"
        }
       ],
       "layout": {
        "barmode": "relative",
        "legend": {
         "tracegroupgap": 0
        },
        "template": {
         "data": {
          "bar": [
           {
            "error_x": {
             "color": "#2a3f5f"
            },
            "error_y": {
             "color": "#2a3f5f"
            },
            "marker": {
             "line": {
              "color": "#E5ECF6",
              "width": 0.5
             },
             "pattern": {
              "fillmode": "overlay",
              "size": 10,
              "solidity": 0.2
             }
            },
            "type": "bar"
           }
          ],
          "barpolar": [
           {
            "marker": {
             "line": {
              "color": "#E5ECF6",
              "width": 0.5
             },
             "pattern": {
              "fillmode": "overlay",
              "size": 10,
              "solidity": 0.2
             }
            },
            "type": "barpolar"
           }
          ],
          "carpet": [
           {
            "aaxis": {
             "endlinecolor": "#2a3f5f",
             "gridcolor": "white",
             "linecolor": "white",
             "minorgridcolor": "white",
             "startlinecolor": "#2a3f5f"
            },
            "baxis": {
             "endlinecolor": "#2a3f5f",
             "gridcolor": "white",
             "linecolor": "white",
             "minorgridcolor": "white",
             "startlinecolor": "#2a3f5f"
            },
            "type": "carpet"
           }
          ],
          "choropleth": [
           {
            "colorbar": {
             "outlinewidth": 0,
             "ticks": ""
            },
            "type": "choropleth"
           }
          ],
          "contour": [
           {
            "colorbar": {
             "outlinewidth": 0,
             "ticks": ""
            },
            "colorscale": [
             [
              0,
              "#0d0887"
             ],
             [
              0.1111111111111111,
              "#46039f"
             ],
             [
              0.2222222222222222,
              "#7201a8"
             ],
             [
              0.3333333333333333,
              "#9c179e"
             ],
             [
              0.4444444444444444,
              "#bd3786"
             ],
             [
              0.5555555555555556,
              "#d8576b"
             ],
             [
              0.6666666666666666,
              "#ed7953"
             ],
             [
              0.7777777777777778,
              "#fb9f3a"
             ],
             [
              0.8888888888888888,
              "#fdca26"
             ],
             [
              1,
              "#f0f921"
             ]
            ],
            "type": "contour"
           }
          ],
          "contourcarpet": [
           {
            "colorbar": {
             "outlinewidth": 0,
             "ticks": ""
            },
            "type": "contourcarpet"
           }
          ],
          "heatmap": [
           {
            "colorbar": {
             "outlinewidth": 0,
             "ticks": ""
            },
            "colorscale": [
             [
              0,
              "#0d0887"
             ],
             [
              0.1111111111111111,
              "#46039f"
             ],
             [
              0.2222222222222222,
              "#7201a8"
             ],
             [
              0.3333333333333333,
              "#9c179e"
             ],
             [
              0.4444444444444444,
              "#bd3786"
             ],
             [
              0.5555555555555556,
              "#d8576b"
             ],
             [
              0.6666666666666666,
              "#ed7953"
             ],
             [
              0.7777777777777778,
              "#fb9f3a"
             ],
             [
              0.8888888888888888,
              "#fdca26"
             ],
             [
              1,
              "#f0f921"
             ]
            ],
            "type": "heatmap"
           }
          ],
          "heatmapgl": [
           {
            "colorbar": {
             "outlinewidth": 0,
             "ticks": ""
            },
            "colorscale": [
             [
              0,
              "#0d0887"
             ],
             [
              0.1111111111111111,
              "#46039f"
             ],
             [
              0.2222222222222222,
              "#7201a8"
             ],
             [
              0.3333333333333333,
              "#9c179e"
             ],
             [
              0.4444444444444444,
              "#bd3786"
             ],
             [
              0.5555555555555556,
              "#d8576b"
             ],
             [
              0.6666666666666666,
              "#ed7953"
             ],
             [
              0.7777777777777778,
              "#fb9f3a"
             ],
             [
              0.8888888888888888,
              "#fdca26"
             ],
             [
              1,
              "#f0f921"
             ]
            ],
            "type": "heatmapgl"
           }
          ],
          "histogram": [
           {
            "marker": {
             "pattern": {
              "fillmode": "overlay",
              "size": 10,
              "solidity": 0.2
             }
            },
            "type": "histogram"
           }
          ],
          "histogram2d": [
           {
            "colorbar": {
             "outlinewidth": 0,
             "ticks": ""
            },
            "colorscale": [
             [
              0,
              "#0d0887"
             ],
             [
              0.1111111111111111,
              "#46039f"
             ],
             [
              0.2222222222222222,
              "#7201a8"
             ],
             [
              0.3333333333333333,
              "#9c179e"
             ],
             [
              0.4444444444444444,
              "#bd3786"
             ],
             [
              0.5555555555555556,
              "#d8576b"
             ],
             [
              0.6666666666666666,
              "#ed7953"
             ],
             [
              0.7777777777777778,
              "#fb9f3a"
             ],
             [
              0.8888888888888888,
              "#fdca26"
             ],
             [
              1,
              "#f0f921"
             ]
            ],
            "type": "histogram2d"
           }
          ],
          "histogram2dcontour": [
           {
            "colorbar": {
             "outlinewidth": 0,
             "ticks": ""
            },
            "colorscale": [
             [
              0,
              "#0d0887"
             ],
             [
              0.1111111111111111,
              "#46039f"
             ],
             [
              0.2222222222222222,
              "#7201a8"
             ],
             [
              0.3333333333333333,
              "#9c179e"
             ],
             [
              0.4444444444444444,
              "#bd3786"
             ],
             [
              0.5555555555555556,
              "#d8576b"
             ],
             [
              0.6666666666666666,
              "#ed7953"
             ],
             [
              0.7777777777777778,
              "#fb9f3a"
             ],
             [
              0.8888888888888888,
              "#fdca26"
             ],
             [
              1,
              "#f0f921"
             ]
            ],
            "type": "histogram2dcontour"
           }
          ],
          "mesh3d": [
           {
            "colorbar": {
             "outlinewidth": 0,
             "ticks": ""
            },
            "type": "mesh3d"
           }
          ],
          "parcoords": [
           {
            "line": {
             "colorbar": {
              "outlinewidth": 0,
              "ticks": ""
             }
            },
            "type": "parcoords"
           }
          ],
          "pie": [
           {
            "automargin": true,
            "type": "pie"
           }
          ],
          "scatter": [
           {
            "fillpattern": {
             "fillmode": "overlay",
             "size": 10,
             "solidity": 0.2
            },
            "type": "scatter"
           }
          ],
          "scatter3d": [
           {
            "line": {
             "colorbar": {
              "outlinewidth": 0,
              "ticks": ""
             }
            },
            "marker": {
             "colorbar": {
              "outlinewidth": 0,
              "ticks": ""
             }
            },
            "type": "scatter3d"
           }
          ],
          "scattercarpet": [
           {
            "marker": {
             "colorbar": {
              "outlinewidth": 0,
              "ticks": ""
             }
            },
            "type": "scattercarpet"
           }
          ],
          "scattergeo": [
           {
            "marker": {
             "colorbar": {
              "outlinewidth": 0,
              "ticks": ""
             }
            },
            "type": "scattergeo"
           }
          ],
          "scattergl": [
           {
            "marker": {
             "colorbar": {
              "outlinewidth": 0,
              "ticks": ""
             }
            },
            "type": "scattergl"
           }
          ],
          "scattermapbox": [
           {
            "marker": {
             "colorbar": {
              "outlinewidth": 0,
              "ticks": ""
             }
            },
            "type": "scattermapbox"
           }
          ],
          "scatterpolar": [
           {
            "marker": {
             "colorbar": {
              "outlinewidth": 0,
              "ticks": ""
             }
            },
            "type": "scatterpolar"
           }
          ],
          "scatterpolargl": [
           {
            "marker": {
             "colorbar": {
              "outlinewidth": 0,
              "ticks": ""
             }
            },
            "type": "scatterpolargl"
           }
          ],
          "scatterternary": [
           {
            "marker": {
             "colorbar": {
              "outlinewidth": 0,
              "ticks": ""
             }
            },
            "type": "scatterternary"
           }
          ],
          "surface": [
           {
            "colorbar": {
             "outlinewidth": 0,
             "ticks": ""
            },
            "colorscale": [
             [
              0,
              "#0d0887"
             ],
             [
              0.1111111111111111,
              "#46039f"
             ],
             [
              0.2222222222222222,
              "#7201a8"
             ],
             [
              0.3333333333333333,
              "#9c179e"
             ],
             [
              0.4444444444444444,
              "#bd3786"
             ],
             [
              0.5555555555555556,
              "#d8576b"
             ],
             [
              0.6666666666666666,
              "#ed7953"
             ],
             [
              0.7777777777777778,
              "#fb9f3a"
             ],
             [
              0.8888888888888888,
              "#fdca26"
             ],
             [
              1,
              "#f0f921"
             ]
            ],
            "type": "surface"
           }
          ],
          "table": [
           {
            "cells": {
             "fill": {
              "color": "#EBF0F8"
             },
             "line": {
              "color": "white"
             }
            },
            "header": {
             "fill": {
              "color": "#C8D4E3"
             },
             "line": {
              "color": "white"
             }
            },
            "type": "table"
           }
          ]
         },
         "layout": {
          "annotationdefaults": {
           "arrowcolor": "#2a3f5f",
           "arrowhead": 0,
           "arrowwidth": 1
          },
          "autotypenumbers": "strict",
          "coloraxis": {
           "colorbar": {
            "outlinewidth": 0,
            "ticks": ""
           }
          },
          "colorscale": {
           "diverging": [
            [
             0,
             "#8e0152"
            ],
            [
             0.1,
             "#c51b7d"
            ],
            [
             0.2,
             "#de77ae"
            ],
            [
             0.3,
             "#f1b6da"
            ],
            [
             0.4,
             "#fde0ef"
            ],
            [
             0.5,
             "#f7f7f7"
            ],
            [
             0.6,
             "#e6f5d0"
            ],
            [
             0.7,
             "#b8e186"
            ],
            [
             0.8,
             "#7fbc41"
            ],
            [
             0.9,
             "#4d9221"
            ],
            [
             1,
             "#276419"
            ]
           ],
           "sequential": [
            [
             0,
             "#0d0887"
            ],
            [
             0.1111111111111111,
             "#46039f"
            ],
            [
             0.2222222222222222,
             "#7201a8"
            ],
            [
             0.3333333333333333,
             "#9c179e"
            ],
            [
             0.4444444444444444,
             "#bd3786"
            ],
            [
             0.5555555555555556,
             "#d8576b"
            ],
            [
             0.6666666666666666,
             "#ed7953"
            ],
            [
             0.7777777777777778,
             "#fb9f3a"
            ],
            [
             0.8888888888888888,
             "#fdca26"
            ],
            [
             1,
             "#f0f921"
            ]
           ],
           "sequentialminus": [
            [
             0,
             "#0d0887"
            ],
            [
             0.1111111111111111,
             "#46039f"
            ],
            [
             0.2222222222222222,
             "#7201a8"
            ],
            [
             0.3333333333333333,
             "#9c179e"
            ],
            [
             0.4444444444444444,
             "#bd3786"
            ],
            [
             0.5555555555555556,
             "#d8576b"
            ],
            [
             0.6666666666666666,
             "#ed7953"
            ],
            [
             0.7777777777777778,
             "#fb9f3a"
            ],
            [
             0.8888888888888888,
             "#fdca26"
            ],
            [
             1,
             "#f0f921"
            ]
           ]
          },
          "colorway": [
           "#636efa",
           "#EF553B",
           "#00cc96",
           "#ab63fa",
           "#FFA15A",
           "#19d3f3",
           "#FF6692",
           "#B6E880",
           "#FF97FF",
           "#FECB52"
          ],
          "font": {
           "color": "#2a3f5f"
          },
          "geo": {
           "bgcolor": "white",
           "lakecolor": "white",
           "landcolor": "#E5ECF6",
           "showlakes": true,
           "showland": true,
           "subunitcolor": "white"
          },
          "hoverlabel": {
           "align": "left"
          },
          "hovermode": "closest",
          "mapbox": {
           "style": "light"
          },
          "paper_bgcolor": "white",
          "plot_bgcolor": "#E5ECF6",
          "polar": {
           "angularaxis": {
            "gridcolor": "white",
            "linecolor": "white",
            "ticks": ""
           },
           "bgcolor": "#E5ECF6",
           "radialaxis": {
            "gridcolor": "white",
            "linecolor": "white",
            "ticks": ""
           }
          },
          "scene": {
           "xaxis": {
            "backgroundcolor": "#E5ECF6",
            "gridcolor": "white",
            "gridwidth": 2,
            "linecolor": "white",
            "showbackground": true,
            "ticks": "",
            "zerolinecolor": "white"
           },
           "yaxis": {
            "backgroundcolor": "#E5ECF6",
            "gridcolor": "white",
            "gridwidth": 2,
            "linecolor": "white",
            "showbackground": true,
            "ticks": "",
            "zerolinecolor": "white"
           },
           "zaxis": {
            "backgroundcolor": "#E5ECF6",
            "gridcolor": "white",
            "gridwidth": 2,
            "linecolor": "white",
            "showbackground": true,
            "ticks": "",
            "zerolinecolor": "white"
           }
          },
          "shapedefaults": {
           "line": {
            "color": "#2a3f5f"
           }
          },
          "ternary": {
           "aaxis": {
            "gridcolor": "white",
            "linecolor": "white",
            "ticks": ""
           },
           "baxis": {
            "gridcolor": "white",
            "linecolor": "white",
            "ticks": ""
           },
           "bgcolor": "#E5ECF6",
           "caxis": {
            "gridcolor": "white",
            "linecolor": "white",
            "ticks": ""
           }
          },
          "title": {
           "x": 0.05
          },
          "xaxis": {
           "automargin": true,
           "gridcolor": "white",
           "linecolor": "white",
           "ticks": "",
           "title": {
            "standoff": 15
           },
           "zerolinecolor": "white",
           "zerolinewidth": 2
          },
          "yaxis": {
           "automargin": true,
           "gridcolor": "white",
           "linecolor": "white",
           "ticks": "",
           "title": {
            "standoff": 15
           },
           "zerolinecolor": "white",
           "zerolinewidth": 2
          }
         }
        },
        "title": {
         "text": "How much of the questions was annotated as rationale (gold)?"
        },
        "xaxis": {
         "anchor": "y",
         "domain": [
          0,
          1
         ],
         "title": {
          "text": "fract"
         }
        },
        "yaxis": {
         "anchor": "x",
         "domain": [
          0,
          1
         ],
         "title": {
          "text": "count"
         }
        }
       }
      },
      "text/html": [
       "<div>                            <div id=\"08268266-2a13-4f15-b4bb-36e3ee491777\" class=\"plotly-graph-div\" style=\"height:525px; width:100%;\"></div>            <script type=\"text/javascript\">                require([\"plotly\"], function(Plotly) {                    window.PLOTLYENV=window.PLOTLYENV || {};                                    if (document.getElementById(\"08268266-2a13-4f15-b4bb-36e3ee491777\")) {                    Plotly.newPlot(                        \"08268266-2a13-4f15-b4bb-36e3ee491777\",                        [{\"alignmentgroup\":\"True\",\"bingroup\":\"x\",\"hovertemplate\":\"fract=%{x}<br>count=%{y}<extra></extra>\",\"legendgroup\":\"\",\"marker\":{\"color\":\"#636efa\",\"pattern\":{\"shape\":\"\"}},\"name\":\"\",\"nbinsx\":20,\"offsetgroup\":\"\",\"orientation\":\"v\",\"showlegend\":false,\"x\":[0.2222222222222222,0.1,1.0,0.42857142857142855,0.08695652173913043,0.1,0.058823529411764705,1.0,0.14285714285714285,1.0,1.0,0.14285714285714285,0.46153846153846156,1.0,1.0,1.0,1.0,1.0,0.19047619047619047,0.3333333333333333,0.42857142857142855,0.13636363636363635,0.10526315789473684,0.125,0.2777777777777778,0.10526315789473684,1.0,0.13333333333333333,0.17647058823529413,0.05,1.0,0.13333333333333333,1.0,0.125,0.05555555555555555,0.42857142857142855,0.5,0.4166666666666667,0.21428571428571427,0.7,0.36363636363636365,0.2,1.0,1.0,0.15384615384615385,0.8125,0.05,0.10714285714285714,0.5454545454545454,0.5555555555555556,1.0,0.17857142857142858,0.45454545454545453,1.0,1.0,0.3,1.0,1.0,1.0,1.0,0.07407407407407407,0.625,0.11538461538461539,0.16666666666666666,0.2631578947368421,0.10526315789473684,1.0,0.25,0.7857142857142857,0.36363636363636365,1.0,1.0,0.3125,0.075,0.3,0.21739130434782608,1.0,0.2857142857142857,1.0,0.17647058823529413,0.09523809523809523,0.07692307692307693,0.9090909090909091,0.5789473684210527,0.030303030303030304,0.5909090909090909,0.4666666666666667,1.0,1.0,0.2727272727272727,1.0,1.0,1.0,0.0625,0.1111111111111111,0.5,1.0,1.0,0.5714285714285714,0.038461538461538464,1.0,1.0,1.0,1.0,1.0,0.6666666666666666,1.0,1.0,0.045454545454545456,0.4444444444444444,0.2727272727272727,0.07142857142857142,1.0,0.4444444444444444,1.0,1.0,0.3,0.06666666666666667,1.0,0.375,0.36363636363636365,0.03571428571428571,0.10526315789473684,1.0,0.21052631578947367,0.38461538461538464,0.5714285714285714,0.2,0.45454545454545453,0.14705882352941177,0.125,0.4375,0.1111111111111111,0.42857142857142855,0.26666666666666666,0.1,0.36363636363636365,1.0,1.0,0.38461538461538464,0.35,0.18181818181818182,0.46153846153846156,0.2222222222222222,0.0625,0.18181818181818182,0.42857142857142855,0.3333333333333333,0.3333333333333333,1.0,0.21052631578947367,0.35714285714285715,1.0,0.1111111111111111,0.07692307692307693,0.2222222222222222,1.0,1.0,0.125,1.0,0.25,0.0625,0.5555555555555556,0.6666666666666666,0.5238095238095238,1.0,1.0,0.25,1.0,0.058823529411764705,0.26666666666666666,0.4,0.25,1.0,0.18181818181818182,0.25,1.0,0.1111111111111111,0.18181818181818182,0.05555555555555555,0.15384615384615385,0.7,1.0,0.18181818181818182,0.2,0.5,0.14285714285714285,1.0,0.23076923076923078,1.0,0.1111111111111111,0.7272727272727273,0.3333333333333333,0.1,0.2857142857142857,0.23076923076923078,0.08695652173913043,0.125,1.0,0.15384615384615385,0.5,1.0,1.0,0.3125,1.0,1.0,0.3333333333333333,0.7142857142857143,1.0,0.26666666666666666,0.3333333333333333,0.125,1.0,0.2,1.0,0.28,0.14285714285714285,0.2857142857142857,0.15384615384615385,0.26666666666666666,0.125,1.0,1.0,0.45454545454545453,1.0,0.6666666666666666,0.9411764705882353,0.13333333333333333,0.4444444444444444,1.0,0.21739130434782608,0.09090909090909091,0.4166666666666667,0.08333333333333333,0.18181818181818182,0.5384615384615384,1.0,1.0,0.23529411764705882,0.07142857142857142,1.0,0.25,1.0,1.0,0.11764705882352941,0.05555555555555555,1.0,0.23076923076923078,1.0,1.0,0.5,0.25,1.0,0.34615384615384615,1.0,1.0,0.42857142857142855,0.23076923076923078,1.0,0.6666666666666666,0.05555555555555555,0.26666666666666666,1.0,1.0,0.2727272727272727,0.15384615384615385,1.0,0.18181818181818182,1.0,0.21428571428571427,0.15384615384615385,1.0,0.2916666666666667,1.0,0.14285714285714285,0.20833333333333334,1.0,1.0,0.75,1.0,0.3076923076923077,0.26666666666666666,0.3333333333333333,1.0,1.0,0.06666666666666667,0.21052631578947367,1.0,0.09090909090909091,1.0,0.2,0.5,1.0,0.42105263157894735,1.0,1.0,1.0,0.75,0.21052631578947367,0.2222222222222222,0.34375,0.1875,0.075,0.05263157894736842,0.6666666666666666,0.6363636363636364,1.0,0.2857142857142857,1.0,1.0,0.3333333333333333,0.07407407407407407,0.23076923076923078,0.16666666666666666,0.3333333333333333,1.0,0.2857142857142857,1.0,0.2727272727272727,0.23076923076923078,1.0,1.0,0.14285714285714285,0.6153846153846154,1.0,1.0,1.0,0.07407407407407407,0.14285714285714285,1.0,1.0,1.0,0.1875,1.0,0.25,0.1,1.0,0.02631578947368421,1.0,0.4,0.125,0.4166666666666667,0.2631578947368421,1.0,0.125,0.23076923076923078,1.0,1.0,0.11764705882352941,1.0,0.2222222222222222,0.26666666666666666,0.17647058823529413,1.0,0.8888888888888888,0.4117647058823529,0.8888888888888888,0.06451612903225806,0.5,0.3333333333333333,0.26666666666666666,1.0,1.0,0.15384615384615385,0.13333333333333333,0.7368421052631579,0.3157894736842105,0.25,0.18181818181818182,0.1,0.2,0.25,0.3333333333333333,0.3333333333333333,0.4,0.23076923076923078,0.23076923076923078,0.14285714285714285,1.0,0.35,1.0,1.0,1.0,0.1111111111111111,1.0,0.18181818181818182,0.42857142857142855,1.0,1.0,1.0,0.4666666666666667,1.0,1.0,0.1111111111111111,1.0,1.0,0.38461538461538464,1.0,1.0,1.0,1.0,0.32142857142857145,0.9230769230769231,0.8888888888888888,1.0,0.9444444444444444,0.6428571428571429,1.0,0.42857142857142855,0.058823529411764705,1.0,0.4444444444444444,0.3684210526315789,1.0,0.2,1.0,0.36363636363636365,0.6363636363636364,0.4117647058823529,1.0,0.5,0.21428571428571427,1.0,0.2857142857142857,0.03225806451612903,0.10810810810810811,0.4444444444444444,0.25,0.15384615384615385,0.2,1.0,0.3333333333333333,1.0,0.42857142857142855,0.3888888888888889,0.375,1.0,0.5,1.0,1.0,1.0,1.0,0.3333333333333333,1.0,0.7857142857142857,1.0,0.18518518518518517,0.5,0.21052631578947367,0.4,0.38235294117647056,0.16666666666666666,0.2857142857142857,1.0,1.0,1.0,1.0,1.0,0.07142857142857142,0.7,0.17647058823529413,0.6666666666666666,0.06666666666666667,1.0,0.1875,0.2857142857142857,0.15384615384615385,0.85,1.0,1.0,1.0,1.0,0.14285714285714285,1.0,0.09090909090909091,1.0,0.5714285714285714,0.38461538461538464,1.0,1.0,0.35714285714285715,1.0,0.16666666666666666,1.0,0.16666666666666666,0.42857142857142855,1.0,0.3333333333333333,0.1875,0.15384615384615385,0.5714285714285714,0.5,0.23529411764705882,1.0,1.0,0.3333333333333333,0.16,0.17391304347826086,1.0,0.08,1.0,1.0,1.0,0.18181818181818182,1.0,0.2857142857142857,0.5714285714285714,0.28,1.0,0.2608695652173913,1.0,0.05263157894736842,1.0,1.0,0.20833333333333334,0.4,0.06666666666666667,0.07692307692307693,0.625,1.0,1.0,1.0,0.08695652173913043,0.19047619047619047,1.0,1.0,0.3333333333333333,0.1875,0.5882352941176471,0.05555555555555555,0.21428571428571427,0.10526315789473684,0.2608695652173913,0.16666666666666666,0.3,1.0,0.5,0.2,0.09090909090909091,1.0,0.07692307692307693,0.045454545454545456,1.0,0.7,1.0,1.0,1.0,0.08695652173913043,0.75,0.45714285714285713,0.4444444444444444,0.5454545454545454,0.1875,1.0,1.0,1.0,1.0,1.0,0.14814814814814814,0.4166666666666667,0.13636363636363635,1.0,1.0,1.0,0.6,0.5454545454545454,0.08333333333333333,1.0,1.0,0.4,0.5833333333333334,1.0,0.16666666666666666,0.4,0.1,0.26666666666666666,0.15384615384615385,1.0,1.0,1.0,0.07692307692307693,0.2222222222222222,0.23529411764705882,0.375,0.24324324324324326,0.5,1.0,1.0,0.4444444444444444,0.23076923076923078,1.0,0.4,0.6428571428571429,1.0,1.0,1.0,0.043478260869565216,1.0,1.0,1.0,0.29411764705882354,1.0,1.0,1.0,1.0,0.2631578947368421,0.16666666666666666,1.0,0.2727272727272727,1.0,0.14285714285714285,0.47368421052631576,1.0,0.1,0.25,0.3333333333333333,0.18181818181818182,1.0,1.0,0.15384615384615385,1.0,0.3076923076923077,0.17647058823529413,0.22727272727272727,0.5555555555555556,0.1111111111111111,0.25,0.09523809523809523,1.0,1.0,0.07142857142857142,1.0,0.06666666666666667,1.0,1.0,0.09090909090909091,0.5454545454545454,1.0,0.5,0.625,0.3125,0.2857142857142857,1.0,0.25,0.7,0.2222222222222222,1.0,0.3125,1.0,0.043478260869565216,0.5,0.5,0.14705882352941177,0.0625,0.5714285714285714,0.5,0.11764705882352941,0.23076923076923078,0.125,0.5454545454545454,0.3076923076923077,0.2,0.16,0.5,0.09090909090909091,0.23076923076923078,0.42857142857142855,0.5,1.0,0.1875,0.3333333333333333,1.0,0.21052631578947367,0.3,0.5,1.0,0.3333333333333333,0.0625,0.125,0.25,0.5,0.625,0.3,0.7307692307692307,0.2,0.1111111111111111,0.1111111111111111,0.1875,0.7272727272727273,0.25,0.5714285714285714,1.0,0.42857142857142855,0.07692307692307693,0.3333333333333333,0.3,0.1111111111111111,0.0625,0.25,0.2857142857142857,0.06666666666666667,0.4,1.0,1.0,0.2,1.0,0.2857142857142857,0.8571428571428571,0.25,0.12903225806451613,1.0,0.4,1.0,0.6666666666666666,1.0,0.45454545454545453,1.0,0.043478260869565216,0.13636363636363635,1.0,0.1,0.18181818181818182,1.0,0.05,0.7777777777777778,0.3,0.06896551724137931,1.0,1.0,0.21428571428571427,0.2727272727272727,1.0,0.5,1.0,1.0,1.0,1.0,0.25,1.0,0.75,0.5,0.2,1.0,0.3,1.0,0.125,0.047619047619047616,0.7142857142857143,0.12,0.2857142857142857,0.3333333333333333,1.0,0.4444444444444444,0.5,0.15384615384615385,1.0,1.0,0.2857142857142857,1.0,1.0,1.0,1.0,1.0,0.625,0.2857142857142857,0.1,0.07692307692307693,0.25,0.2857142857142857,0.375,0.21052631578947367,0.4,1.0,0.08695652173913043,0.21428571428571427,1.0,0.10526315789473684,0.16666666666666666,0.8,0.125,1.0,0.05263157894736842,1.0,0.3333333333333333,1.0,0.42857142857142855,1.0,1.0,0.3,0.625,1.0,0.15789473684210525,0.5714285714285714,0.4166666666666667,0.36363636363636365,0.029411764705882353,0.4166666666666667,1.0,1.0,0.08333333333333333,0.23076923076923078,0.2,0.3333333333333333,0.043478260869565216,0.15789473684210525,1.0,1.0,1.0,0.21428571428571427,1.0,0.25,0.5833333333333334,0.6153846153846154,1.0,0.038461538461538464,1.0,1.0,1.0,0.42857142857142855,1.0,1.0,0.3125,0.15,0.19047619047619047,0.3,0.6,0.6071428571428571,1.0,0.15384615384615385,0.09090909090909091,0.3333333333333333,1.0,1.0,0.47368421052631576,0.21428571428571427,0.4444444444444444,0.08333333333333333,1.0,0.3333333333333333,0.3333333333333333,0.36363636363636365,0.14285714285714285,0.42857142857142855,0.11538461538461539,0.05263157894736842,1.0,1.0,1.0,0.05263157894736842,0.13333333333333333,1.0,0.42857142857142855,1.0,0.17647058823529413,1.0,0.4166666666666667,0.46153846153846156,0.058823529411764705,0.4666666666666667,0.2,1.0,0.2,1.0,0.19230769230769232,0.10526315789473684,1.0,1.0,0.058823529411764705,0.2,0.5555555555555556,1.0,0.1,1.0,1.0,0.17647058823529413,0.26666666666666666,1.0,0.6,0.06666666666666667,1.0,0.6521739130434783,1.0,0.08695652173913043,0.15,0.4,0.08,0.13333333333333333,0.26666666666666666,0.058823529411764705,0.8125,0.05555555555555555,0.4444444444444444,0.13333333333333333,1.0,0.7,1.0,0.2,1.0,0.25,0.3333333333333333,1.0,0.45454545454545453,1.0,0.09090909090909091,1.0,0.7692307692307693,1.0,0.11538461538461539,0.5,0.26666666666666666,0.06666666666666667,1.0,0.4,0.07142857142857142,1.0,0.14285714285714285,0.3333333333333333,1.0,0.3333333333333333,0.28125,0.45454545454545453,0.7272727272727273,0.16666666666666666,0.2,0.1875,0.5,0.875,1.0,0.041666666666666664,0.038461538461538464,1.0,0.2857142857142857,0.125,1.0,0.07142857142857142,0.1724137931034483,0.23529411764705882,1.0,0.125,0.1111111111111111,1.0,0.2631578947368421,0.35294117647058826,0.058823529411764705,0.375,0.6666666666666666,0.2,0.42857142857142855,0.625,0.3333333333333333,1.0,0.09523809523809523,1.0,0.2631578947368421,1.0,0.13333333333333333,1.0,0.22727272727272727,1.0,0.5555555555555556,0.3157894736842105,1.0,1.0,0.08695652173913043,0.2,0.35714285714285715,0.28,0.2222222222222222,0.045454545454545456,0.35714285714285715,1.0,1.0,1.0,0.25,0.2,1.0,1.0,0.07142857142857142,0.5,1.0,0.18181818181818182,0.5714285714285714,0.1111111111111111,0.25,1.0,0.1111111111111111,0.2,0.07692307692307693,1.0,0.42857142857142855,0.25,1.0,0.16666666666666666,1.0,0.15384615384615385,1.0,0.3333333333333333,0.5,0.25,0.5833333333333334,0.38461538461538464,0.1,0.22727272727272727,0.25,0.3333333333333333,0.5384615384615384,0.75,0.08333333333333333,1.0,1.0,0.0625,0.35714285714285715,1.0,0.5,0.2857142857142857,0.16666666666666666,1.0,0.10714285714285714,0.42857142857142855,0.375,1.0,0.42857142857142855,0.75,0.625,0.05263157894736842,0.2222222222222222,1.0,0.23529411764705882,1.0,0.3333333333333333,1.0,0.4166666666666667,0.3333333333333333,1.0,0.38461538461538464,0.0625,1.0,0.16666666666666666,0.18181818181818182,0.23076923076923078,0.2222222222222222,0.23809523809523808,0.25,0.3333333333333333,1.0,0.1111111111111111,1.0,1.0,1.0,0.23076923076923078,0.375,0.06666666666666667,1.0,0.45,1.0,0.29411764705882354,1.0,0.21428571428571427,0.4444444444444444,0.4,0.0625,1.0,0.11764705882352941,0.2222222222222222,0.09090909090909091,1.0,0.5454545454545454,0.3,1.0,0.15384615384615385,0.47368421052631576,0.4,0.16666666666666666,0.09090909090909091,0.0625,1.0,1.0,0.125,0.4,0.3076923076923077,0.6,1.0,0.15384615384615385,0.05263157894736842,0.4,0.15],\"xaxis\":\"x\",\"yaxis\":\"y\",\"type\":\"histogram\"}],                        {\"template\":{\"data\":{\"histogram2dcontour\":[{\"type\":\"histogram2dcontour\",\"colorbar\":{\"outlinewidth\":0,\"ticks\":\"\"},\"colorscale\":[[0.0,\"#0d0887\"],[0.1111111111111111,\"#46039f\"],[0.2222222222222222,\"#7201a8\"],[0.3333333333333333,\"#9c179e\"],[0.4444444444444444,\"#bd3786\"],[0.5555555555555556,\"#d8576b\"],[0.6666666666666666,\"#ed7953\"],[0.7777777777777778,\"#fb9f3a\"],[0.8888888888888888,\"#fdca26\"],[1.0,\"#f0f921\"]]}],\"choropleth\":[{\"type\":\"choropleth\",\"colorbar\":{\"outlinewidth\":0,\"ticks\":\"\"}}],\"histogram2d\":[{\"type\":\"histogram2d\",\"colorbar\":{\"outlinewidth\":0,\"ticks\":\"\"},\"colorscale\":[[0.0,\"#0d0887\"],[0.1111111111111111,\"#46039f\"],[0.2222222222222222,\"#7201a8\"],[0.3333333333333333,\"#9c179e\"],[0.4444444444444444,\"#bd3786\"],[0.5555555555555556,\"#d8576b\"],[0.6666666666666666,\"#ed7953\"],[0.7777777777777778,\"#fb9f3a\"],[0.8888888888888888,\"#fdca26\"],[1.0,\"#f0f921\"]]}],\"heatmap\":[{\"type\":\"heatmap\",\"colorbar\":{\"outlinewidth\":0,\"ticks\":\"\"},\"colorscale\":[[0.0,\"#0d0887\"],[0.1111111111111111,\"#46039f\"],[0.2222222222222222,\"#7201a8\"],[0.3333333333333333,\"#9c179e\"],[0.4444444444444444,\"#bd3786\"],[0.5555555555555556,\"#d8576b\"],[0.6666666666666666,\"#ed7953\"],[0.7777777777777778,\"#fb9f3a\"],[0.8888888888888888,\"#fdca26\"],[1.0,\"#f0f921\"]]}],\"heatmapgl\":[{\"type\":\"heatmapgl\",\"colorbar\":{\"outlinewidth\":0,\"ticks\":\"\"},\"colorscale\":[[0.0,\"#0d0887\"],[0.1111111111111111,\"#46039f\"],[0.2222222222222222,\"#7201a8\"],[0.3333333333333333,\"#9c179e\"],[0.4444444444444444,\"#bd3786\"],[0.5555555555555556,\"#d8576b\"],[0.6666666666666666,\"#ed7953\"],[0.7777777777777778,\"#fb9f3a\"],[0.8888888888888888,\"#fdca26\"],[1.0,\"#f0f921\"]]}],\"contourcarpet\":[{\"type\":\"contourcarpet\",\"colorbar\":{\"outlinewidth\":0,\"ticks\":\"\"}}],\"contour\":[{\"type\":\"contour\",\"colorbar\":{\"outlinewidth\":0,\"ticks\":\"\"},\"colorscale\":[[0.0,\"#0d0887\"],[0.1111111111111111,\"#46039f\"],[0.2222222222222222,\"#7201a8\"],[0.3333333333333333,\"#9c179e\"],[0.4444444444444444,\"#bd3786\"],[0.5555555555555556,\"#d8576b\"],[0.6666666666666666,\"#ed7953\"],[0.7777777777777778,\"#fb9f3a\"],[0.8888888888888888,\"#fdca26\"],[1.0,\"#f0f921\"]]}],\"surface\":[{\"type\":\"surface\",\"colorbar\":{\"outlinewidth\":0,\"ticks\":\"\"},\"colorscale\":[[0.0,\"#0d0887\"],[0.1111111111111111,\"#46039f\"],[0.2222222222222222,\"#7201a8\"],[0.3333333333333333,\"#9c179e\"],[0.4444444444444444,\"#bd3786\"],[0.5555555555555556,\"#d8576b\"],[0.6666666666666666,\"#ed7953\"],[0.7777777777777778,\"#fb9f3a\"],[0.8888888888888888,\"#fdca26\"],[1.0,\"#f0f921\"]]}],\"mesh3d\":[{\"type\":\"mesh3d\",\"colorbar\":{\"outlinewidth\":0,\"ticks\":\"\"}}],\"scatter\":[{\"fillpattern\":{\"fillmode\":\"overlay\",\"size\":10,\"solidity\":0.2},\"type\":\"scatter\"}],\"parcoords\":[{\"type\":\"parcoords\",\"line\":{\"colorbar\":{\"outlinewidth\":0,\"ticks\":\"\"}}}],\"scatterpolargl\":[{\"type\":\"scatterpolargl\",\"marker\":{\"colorbar\":{\"outlinewidth\":0,\"ticks\":\"\"}}}],\"bar\":[{\"error_x\":{\"color\":\"#2a3f5f\"},\"error_y\":{\"color\":\"#2a3f5f\"},\"marker\":{\"line\":{\"color\":\"#E5ECF6\",\"width\":0.5},\"pattern\":{\"fillmode\":\"overlay\",\"size\":10,\"solidity\":0.2}},\"type\":\"bar\"}],\"scattergeo\":[{\"type\":\"scattergeo\",\"marker\":{\"colorbar\":{\"outlinewidth\":0,\"ticks\":\"\"}}}],\"scatterpolar\":[{\"type\":\"scatterpolar\",\"marker\":{\"colorbar\":{\"outlinewidth\":0,\"ticks\":\"\"}}}],\"histogram\":[{\"marker\":{\"pattern\":{\"fillmode\":\"overlay\",\"size\":10,\"solidity\":0.2}},\"type\":\"histogram\"}],\"scattergl\":[{\"type\":\"scattergl\",\"marker\":{\"colorbar\":{\"outlinewidth\":0,\"ticks\":\"\"}}}],\"scatter3d\":[{\"type\":\"scatter3d\",\"line\":{\"colorbar\":{\"outlinewidth\":0,\"ticks\":\"\"}},\"marker\":{\"colorbar\":{\"outlinewidth\":0,\"ticks\":\"\"}}}],\"scattermapbox\":[{\"type\":\"scattermapbox\",\"marker\":{\"colorbar\":{\"outlinewidth\":0,\"ticks\":\"\"}}}],\"scatterternary\":[{\"type\":\"scatterternary\",\"marker\":{\"colorbar\":{\"outlinewidth\":0,\"ticks\":\"\"}}}],\"scattercarpet\":[{\"type\":\"scattercarpet\",\"marker\":{\"colorbar\":{\"outlinewidth\":0,\"ticks\":\"\"}}}],\"carpet\":[{\"aaxis\":{\"endlinecolor\":\"#2a3f5f\",\"gridcolor\":\"white\",\"linecolor\":\"white\",\"minorgridcolor\":\"white\",\"startlinecolor\":\"#2a3f5f\"},\"baxis\":{\"endlinecolor\":\"#2a3f5f\",\"gridcolor\":\"white\",\"linecolor\":\"white\",\"minorgridcolor\":\"white\",\"startlinecolor\":\"#2a3f5f\"},\"type\":\"carpet\"}],\"table\":[{\"cells\":{\"fill\":{\"color\":\"#EBF0F8\"},\"line\":{\"color\":\"white\"}},\"header\":{\"fill\":{\"color\":\"#C8D4E3\"},\"line\":{\"color\":\"white\"}},\"type\":\"table\"}],\"barpolar\":[{\"marker\":{\"line\":{\"color\":\"#E5ECF6\",\"width\":0.5},\"pattern\":{\"fillmode\":\"overlay\",\"size\":10,\"solidity\":0.2}},\"type\":\"barpolar\"}],\"pie\":[{\"automargin\":true,\"type\":\"pie\"}]},\"layout\":{\"autotypenumbers\":\"strict\",\"colorway\":[\"#636efa\",\"#EF553B\",\"#00cc96\",\"#ab63fa\",\"#FFA15A\",\"#19d3f3\",\"#FF6692\",\"#B6E880\",\"#FF97FF\",\"#FECB52\"],\"font\":{\"color\":\"#2a3f5f\"},\"hovermode\":\"closest\",\"hoverlabel\":{\"align\":\"left\"},\"paper_bgcolor\":\"white\",\"plot_bgcolor\":\"#E5ECF6\",\"polar\":{\"bgcolor\":\"#E5ECF6\",\"angularaxis\":{\"gridcolor\":\"white\",\"linecolor\":\"white\",\"ticks\":\"\"},\"radialaxis\":{\"gridcolor\":\"white\",\"linecolor\":\"white\",\"ticks\":\"\"}},\"ternary\":{\"bgcolor\":\"#E5ECF6\",\"aaxis\":{\"gridcolor\":\"white\",\"linecolor\":\"white\",\"ticks\":\"\"},\"baxis\":{\"gridcolor\":\"white\",\"linecolor\":\"white\",\"ticks\":\"\"},\"caxis\":{\"gridcolor\":\"white\",\"linecolor\":\"white\",\"ticks\":\"\"}},\"coloraxis\":{\"colorbar\":{\"outlinewidth\":0,\"ticks\":\"\"}},\"colorscale\":{\"sequential\":[[0.0,\"#0d0887\"],[0.1111111111111111,\"#46039f\"],[0.2222222222222222,\"#7201a8\"],[0.3333333333333333,\"#9c179e\"],[0.4444444444444444,\"#bd3786\"],[0.5555555555555556,\"#d8576b\"],[0.6666666666666666,\"#ed7953\"],[0.7777777777777778,\"#fb9f3a\"],[0.8888888888888888,\"#fdca26\"],[1.0,\"#f0f921\"]],\"sequentialminus\":[[0.0,\"#0d0887\"],[0.1111111111111111,\"#46039f\"],[0.2222222222222222,\"#7201a8\"],[0.3333333333333333,\"#9c179e\"],[0.4444444444444444,\"#bd3786\"],[0.5555555555555556,\"#d8576b\"],[0.6666666666666666,\"#ed7953\"],[0.7777777777777778,\"#fb9f3a\"],[0.8888888888888888,\"#fdca26\"],[1.0,\"#f0f921\"]],\"diverging\":[[0,\"#8e0152\"],[0.1,\"#c51b7d\"],[0.2,\"#de77ae\"],[0.3,\"#f1b6da\"],[0.4,\"#fde0ef\"],[0.5,\"#f7f7f7\"],[0.6,\"#e6f5d0\"],[0.7,\"#b8e186\"],[0.8,\"#7fbc41\"],[0.9,\"#4d9221\"],[1,\"#276419\"]]},\"xaxis\":{\"gridcolor\":\"white\",\"linecolor\":\"white\",\"ticks\":\"\",\"title\":{\"standoff\":15},\"zerolinecolor\":\"white\",\"automargin\":true,\"zerolinewidth\":2},\"yaxis\":{\"gridcolor\":\"white\",\"linecolor\":\"white\",\"ticks\":\"\",\"title\":{\"standoff\":15},\"zerolinecolor\":\"white\",\"automargin\":true,\"zerolinewidth\":2},\"scene\":{\"xaxis\":{\"backgroundcolor\":\"#E5ECF6\",\"gridcolor\":\"white\",\"linecolor\":\"white\",\"showbackground\":true,\"ticks\":\"\",\"zerolinecolor\":\"white\",\"gridwidth\":2},\"yaxis\":{\"backgroundcolor\":\"#E5ECF6\",\"gridcolor\":\"white\",\"linecolor\":\"white\",\"showbackground\":true,\"ticks\":\"\",\"zerolinecolor\":\"white\",\"gridwidth\":2},\"zaxis\":{\"backgroundcolor\":\"#E5ECF6\",\"gridcolor\":\"white\",\"linecolor\":\"white\",\"showbackground\":true,\"ticks\":\"\",\"zerolinecolor\":\"white\",\"gridwidth\":2}},\"shapedefaults\":{\"line\":{\"color\":\"#2a3f5f\"}},\"annotationdefaults\":{\"arrowcolor\":\"#2a3f5f\",\"arrowhead\":0,\"arrowwidth\":1},\"geo\":{\"bgcolor\":\"white\",\"landcolor\":\"#E5ECF6\",\"subunitcolor\":\"white\",\"showland\":true,\"showlakes\":true,\"lakecolor\":\"white\"},\"title\":{\"x\":0.05},\"mapbox\":{\"style\":\"light\"}}},\"xaxis\":{\"anchor\":\"y\",\"domain\":[0.0,1.0],\"title\":{\"text\":\"fract\"}},\"yaxis\":{\"anchor\":\"x\",\"domain\":[0.0,1.0],\"title\":{\"text\":\"count\"}},\"legend\":{\"tracegroupgap\":0},\"title\":{\"text\":\"How much of the questions was annotated as rationale (gold)?\"},\"barmode\":\"relative\"},                        {\"responsive\": true}                    ).then(function(){\n",
       "                            \n",
       "var gd = document.getElementById('08268266-2a13-4f15-b4bb-36e3ee491777');\n",
       "var x = new MutationObserver(function (mutations, observer) {{\n",
       "        var display = window.getComputedStyle(gd).display;\n",
       "        if (!display || display === 'none') {{\n",
       "            console.log([gd, 'removed!']);\n",
       "            Plotly.purge(gd);\n",
       "            observer.disconnect();\n",
       "        }}\n",
       "}});\n",
       "\n",
       "// Listen for the removal of the full notebook cells\n",
       "var notebookContainer = gd.closest('#notebook-container');\n",
       "if (notebookContainer) {{\n",
       "    x.observe(notebookContainer, {childList: true});\n",
       "}}\n",
       "\n",
       "// Listen for the clearing of the current output cell\n",
       "var outputEl = gd.closest('.output');\n",
       "if (outputEl) {{\n",
       "    x.observe(outputEl, {childList: true});\n",
       "}}\n",
       "\n",
       "                        })                };                });            </script>        </div>"
      ]
     },
     "metadata": {},
     "output_type": "display_data"
    }
   ],
   "source": [
    "non_fractions = []\n",
    "for x in annotations:\n",
    "    start = list(x.evidences)[0][0].start_token\n",
    "    end = list(x.evidences)[0][0].end_token\n",
    "    l = len(documents[list(x.evidences)[0][0].docid])\n",
    "    non_fractions.append((end-start)/l)\n",
    "\n",
    "fig = px.histogram(\n",
    "    pd.DataFrame(non_fractions, columns=['fract']),\n",
    "    title='How much of the questions was annotated as rationale (gold)?',\n",
    "    x='fract',\n",
    "    nbins=20\n",
    ")\n",
    "fig.show()"
   ]
  }
 ],
 "metadata": {
  "kernelspec": {
   "display_name": "ma",
   "language": "python",
   "name": "ma"
  },
  "language_info": {
   "codemirror_mode": {
    "name": "ipython",
    "version": 3
   },
   "file_extension": ".py",
   "mimetype": "text/x-python",
   "name": "python",
   "nbconvert_exporter": "python",
   "pygments_lexer": "ipython3",
   "version": "3.9.12"
  }
 },
 "nbformat": 4,
 "nbformat_minor": 2
}
