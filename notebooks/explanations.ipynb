{
 "cells": [
  {
   "cell_type": "code",
   "execution_count": 22,
   "metadata": {
    "vscode": {
     "languageId": "plaintext"
    }
   },
   "outputs": [],
   "source": [
    "import yaml\n",
    "import yaml\n",
    "from yaml.loader import SafeLoader\n",
    "import sys\n",
    "sys.path.append(\"..\")\n",
    "import src.evaluation.eraserbenchmark.rationale_benchmark.utils as EU\n",
    "import src.evaluation.eraserbenchmark.rationale_benchmark.metrics as EM\n",
    "from src.data.locations import LOC\n",
    "\n",
    "# load predictions and attentions\n",
    "with open('../data/experiments/default/predictions_attentions.yaml') as f:\n",
    "    data = yaml.load(f, Loader=SafeLoader)\n",
    "\n",
    "# get documents\n",
    "docids = list(data.keys())\n",
    "documents = EM.load_flattened_documents('../'+LOC['cose'], docids=docids)"
   ]
  },
  {
   "cell_type": "code",
   "execution_count": 32,
   "metadata": {},
   "outputs": [
    {
     "data": {
      "text/plain": [
       "[('Where', 1.0),\n",
       " ('is', 0.0),\n",
       " ('a', 0.9125225425755188),\n",
       " ('crowded', 0.6856050046895039),\n",
       " ('motorway', 0.7312479758168364),\n",
       " ('likely', 0.6880283518832284),\n",
       " ('to', 0.7520807230943722),\n",
       " ('be', 0.415934913678073),\n",
       " ('?', 0.5465980836047971)]"
      ]
     },
     "execution_count": 32,
     "metadata": {},
     "output_type": "execute_result"
    }
   ],
   "source": [
    "i = 0\n",
    "list(zip(documents[docids[i]], data[docids[i]]['attn']))"
   ]
  }
 ],
 "metadata": {
  "kernelspec": {
   "display_name": "ma",
   "language": "python",
   "name": "ma"
  },
  "language_info": {
   "codemirror_mode": {
    "name": "ipython",
    "version": 3
   },
   "file_extension": ".py",
   "mimetype": "text/x-python",
   "name": "python",
   "nbconvert_exporter": "python",
   "pygments_lexer": "ipython3",
   "version": "3.9.12"
  }
 },
 "nbformat": 4,
 "nbformat_minor": 2
}
